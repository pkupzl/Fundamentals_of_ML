{
 "cells": [
  {
   "cell_type": "markdown",
   "metadata": {},
   "source": [
    "# Homework: Expectation Maximization"
   ]
  },
  {
   "cell_type": "markdown",
   "metadata": {},
   "source": [
    "Assuming the lifetime of a machine follows an exponential distribution with an unknown mean value  $\\theta$. A total of $N+M$ machines were tested in two independent experiments:\n",
    "\n",
    "a) In the first experiment, $N $ machines were tested, and their exact lifetimes $x_{1},\\dots,x_{N}$ were recorded.\n",
    "\n",
    "b) In the second experiment, the experimenter entered the laboratory at a certain time $k > 0$ and recorded that some $M$ machines were still running while others had already failed. Therefore, the results of the second experiment are right-censored (greater than some value but unknown) or left-censored (less than some value but unknown). The available data consists of indicator variables $e_{1},\\dots,e_{M}$.\n",
    "$$\n",
    "e_{i}=\\left\\{\\begin{array}{ll}\n",
    "1 & \\text { if the } i \\text { th machine is still running at time } k \\\\\n",
    "0 & \\text { if the } i \\text { th machine has already failed at time } k\n",
    "\\end{array}\\right.\n",
    "$$\n",
    "### Questions\n",
    "- (1) The exact lifetimes of the M machines in the second experiment are denoted as $\\boldsymbol{Z} = (z_{1}, ..., z_{M})$, which are **unobserved**. The observed data is denoted as $\\boldsymbol{X} = (x_{1}, \\dots, x_{N}, e_{1},\\dots , e_{M})$. Write the complete log-likelihood function $p(\\boldsymbol{X}, \\boldsymbol{Z} | \\theta)$.\n",
    "- (2) Derive the Expectation-Maximization (EM) algorithm for this problem"
   ]
  },
  {
   "cell_type": "markdown",
   "metadata": {},
   "source": [
    "#### Question 1.1\n",
    "The complete log-likelihood function is given by:\n",
    "$$\n",
    "logp(\\boldsymbol{X}, \\boldsymbol{Z} | \\theta) = \\sum_{i=1}^{N} logp(x_{i} | \\theta) +\\sum_{i=1}^{M} logp(e_{i},z_{i} | \\theta) \n",
    "$$\n",
    "Because $X \\sim \\frac{1}{\\theta}e^{-x/\\theta}$\n",
    "$$\n",
    "\\therefore logp(x_{i} | \\theta) = log\\frac{1}{\\theta}e^{-x_{i}/\\theta} = -log\\theta - \\frac{x_{i}}{\\theta} \n",
    "$$\n",
    "$$\n",
    "\\begin{aligned}\n",
    "logp(e_{i},z_{i} | \\theta) &= logp(e_{i} | z_{i}, \\theta) + logp(z_{i} | \\theta) \\\\\n",
    "&= log\\frac{1}{\\theta}e^{-z_{i}/\\theta} \\\\\n",
    "&= -log\\theta - \\frac{z_{i}}{\\theta}\n",
    "\\end{aligned}\n",
    "$$\n",
    "Therefore, the complete log-likelihood function is given by:\n",
    "$$\n",
    "logp(\\boldsymbol{X}, \\boldsymbol{Z} | \\theta) = \\sum_{i=1}^{N} logp(x_{i} | \\theta) +\\sum_{i=1}^{M} logp(e_{i},z_{i} | \\theta) = -(N+M)log\\theta - \\frac{1}{\\theta}(\\sum_{i=1}^{N}x_{i} +\\sum_{i=1}^{M}z_{i})\n",
    "$$"
   ]
  },
  {
   "cell_type": "markdown",
   "metadata": {},
   "source": [
    "#### Question 1.2\n",
    "First we given the E-step:<br>\n",
    "To avoid confusion with the defined time 't' in the question, we will change the index 't' in the iteration process to 'k'.<br>\n",
    "Notice that we only need to calculate the expectation of  $\\sum_{i=1}^{M}z_{i} $\n",
    "$$\n",
    "\\begin{aligned}\n",
    "E_{Z|X,\\theta^{(k)}}[\\sum_{i=1}^{M}z_{i}] &= \\sum_{i=1}^{M}E_{Z|X,\\theta^{(k)}}[z_{i}] \\\\\n",
    "&= \\sum_{i=1}^{M}E_{z_{i} | e_{i}, \\theta^{(k)}}[z_{i}] \\\\\n",
    "\\end{aligned}\n",
    "$$\n",
    "if $e_{i}=1$ then $z_{i}>t$\n",
    "$$\n",
    "\\begin{aligned}\n",
    "E_{z_{i} | e_{i}, \\theta^{(k)}}[z_{i}] &= \\int_{t}^{\\infty}z_{i}p(z_{i} | e_{i}, \\theta^{(k)})dz_{i}\\\\\n",
    "& = \\int_{t}^{\\infty}z_{i}\\frac{p(z_{i} | \\theta^{(k)})}{p(z_{i}>t | \\theta^{(k)})}dz_{i} \\\\\n",
    "&= \\frac{1}{e^{-t/\\theta^{(k)}}}\\int_{t}^{\\infty}\\frac{z_{i}}{\\theta^{(k)}} e^{\\frac{z_{i}}{\\theta^{(k)}}}dz_{i}\\\\\n",
    "&= \\frac{\\theta^{(k)}}{e^{-t/\\theta^{(k)}}}\\int_{t/\\theta^{(k)}}^{\\infty}xe^{-x}dx\\\\\n",
    "&= -\\frac{\\theta^{(k)}}{e^{-t/\\theta^{(k)}}} (1+x)e^{-x}|_{t/\\theta^{(k)}}^{\\infty}\\\\\n",
    "&= \\theta^{(k)}\\frac{(1+\\frac{t}{\\theta^{(k)}})e^{-\\frac{t}{\\theta^{(k)}}}}{e^{\\frac{-t}{\\theta^{(k)}}}} \\\\\n",
    "&= \\theta^{(k)}(1+\\frac{t}{\\theta^{(k)}}) \\\\\n",
    "&= t + \\theta^{(k)}\n",
    "\\end{aligned}\n",
    "$$\n",
    "Or you can derive this equation by utilizing the memoryless property of exponential distribution. <br>\n",
    "if $e_{i}=0$ then $z_{i}<t$\n",
    "$$\n",
    "\\begin{aligned}\n",
    "E_{z_{i} | e_{i}, \\theta^{(k)}}[z_{i}] &= \\int_{0}^{t}z_{i}p(z_{i} | e_{i}, \\theta^{(k)})dz_{i}\\\\\n",
    "& = \\int_{0}^{t}z_{i}\\frac{p(z_{i} | \\theta^{(k)})}{p(z_{i}<t | \\theta^{(k)})}dz_{i} \\\\\n",
    "&= \\frac{1}{1-e^{-t/\\theta^{(k)}}}\\int_{0}^{t}\\frac{z_{i}}{\\theta^{(k)}} e^{\\frac{z_{i}}{\\theta^{(k)}}}dz_{i}\\\\\n",
    "&= \\frac{\\theta^{(k)}}{1-e^{-t/\\theta^{(k)}}}\\int_{0}^{t/\\theta^{(k)}}xe^{-x}dx\\\\\n",
    "&= -\\frac{\\theta^{(k)}}{1-e^{-t/\\theta^{(k)}}} (1+x)e^{-x}|_{0}^{t/\\theta^{(k)}}\\\\\n",
    "&= -\\theta^{(k)}\\frac{(1+\\frac{t}{\\theta^{(k)}})e^{-\\frac{t}{\\theta^{(k)}}}-1}{1-e^{-\\frac{t}{\\theta^{(k)}}}} \\\\\n",
    "&=  \\theta^{(k)}- \\frac{t}{e^{\\frac{t}{\\theta^{(k)}}}-1}\n",
    "\\end{aligned}\n",
    "$$\n",
    "\n",
    "$$\n",
    "\\begin{aligned}\n",
    "\\therefore Q(\\theta| \\theta^{(k)}) &= E_{Z|X,\\theta^{(k)}}[logp(\\boldsymbol{X}, \\boldsymbol{Z} | \\theta)] \\\\\n",
    "&= -(N+M)log\\theta + \\frac{1}{\\theta}(\\sum_{i=1}^{N}x_{i} + \\sum_{i=1}^{M}E_{Z|X,\\theta^{(k)}}[z_{i}]) \\\\\n",
    "&= -(N+M)log\\theta + \\frac{1}{\\theta}\\left(\\sum_{i=1}^{N}x_{i} + \\sum_{i=1}^{M}\\left(e_{i}*(t + \\theta^{(k)})+(1-e_{i})*(\\theta^{(k)} - \\frac{t}{e^{\\frac{t}{\\theta^{(k)}}}-1})\\right)\\right) \\\\\n",
    "\\end{aligned}\n",
    "$$\n",
    "Then we given the M-step:<br>\n",
    "$$\n",
    "\\theta^{(k+1)} = argmax_{\\theta}Q(\\theta| \\theta^{(k)})\n",
    "$$\n",
    "We can find the maximum value of $Q(\\theta| \\theta^{(k)})$ by taking the derivative of $Q(\\theta| \\theta^{(k)})$ with respect to $\\theta$ and setting it to zero.\n",
    "$$\n",
    "\\begin{aligned}\n",
    "Q'(\\theta| \\theta^{(k)}) &= -(N+M)\\frac{1}{\\theta} + \\frac{1}{\\theta^{2}}\\left(\\sum_{i=1}^{N}x_{i} + \\sum_{i=1}^{M}\\left(e_{i}*(t + \\theta^{(k)})+(1-e_{i})*(\\theta^{(k)} - \\frac{t}{e^{\\frac{t}{\\theta^{(k)}}}-1})\\right)\\right)\n",
    "& = 0 \\\\\n",
    "\\therefore \\theta^{(k+1)} = &\\frac{1}{N+M}\\left(\\sum_{i=1}^{N}x_{i} + \\sum_{i=1}^{M}\\left(e_{i}*(t + \\theta^{(k)})+(1-e_{i})*(\\theta^{(k)} - \\frac{t}{e^{\\frac{t}{\\theta^{(k)}}}-1})\\right)\\right)\\\\\n",
    "\\end{aligned}\n",
    "$$\n"
   ]
  },
  {
   "cell_type": "markdown",
   "metadata": {},
   "source": [
    "# Codes Validation\n",
    "Assume that $\\theta=5$, $N=200,M=10000,t=3，\\theta_{0}=500$"
   ]
  },
  {
   "cell_type": "code",
   "execution_count": 56,
   "metadata": {},
   "outputs": [],
   "source": [
    "import numpy as np\n",
    "\n",
    "def generate_exponential_samples(theta,N):\n",
    "    samples = np.random.exponential(scale=theta, size=N)\n",
    "    return samples\n",
    "\n",
    "def generate_samples(theta,N,M,t):\n",
    "    X = generate_exponential_samples(theta,N)\n",
    "    Z = generate_exponential_samples(theta,M)\n",
    "    E = np.where(Z > t, 1, 0)\n",
    "    return X, E"
   ]
  },
  {
   "cell_type": "code",
   "execution_count": 107,
   "metadata": {},
   "outputs": [],
   "source": [
    "real_theta = 5\n",
    "N=200\n",
    "M=10000\n",
    "t=3\n",
    "X ,E = generate_samples(real_theta,N,M,t)"
   ]
  },
  {
   "cell_type": "code",
   "execution_count": 108,
   "metadata": {},
   "outputs": [],
   "source": [
    "def EM(N,M,X,E,t,theta0,epsilon,keep_history=False):\n",
    "    theta = theta0\n",
    "    if keep_history:\n",
    "        thetas = []\n",
    "    while True:\n",
    "        thetas.append(theta)\n",
    "        theta_old = theta\n",
    "        E0 = E*(t+theta)+(1-E)*(theta-t/(np.exp(t/theta)-1))\n",
    "        theta = 1/(N+M)*(np.sum(X) +np.sum(E0))\n",
    "        if abs(theta - theta_old) < epsilon:\n",
    "            break\n",
    "    if keep_history:\n",
    "        return thetas,theta\n",
    "    return theta"
   ]
  },
  {
   "cell_type": "code",
   "execution_count": 109,
   "metadata": {},
   "outputs": [],
   "source": [
    "thetas,theta = EM(N,M,X,E,t,500,1e-9,keep_history=True)"
   ]
  },
  {
   "cell_type": "code",
   "execution_count": 110,
   "metadata": {},
   "outputs": [
    {
     "name": "stdout",
     "output_type": "stream",
     "text": [
      "theta =  5.001585151022584\n"
     ]
    }
   ],
   "source": [
    "print(\"theta = \",theta)"
   ]
  },
  {
   "cell_type": "code",
   "execution_count": 111,
   "metadata": {},
   "outputs": [
    {
     "data": {
      "text/plain": [
       "[<matplotlib.lines.Line2D at 0x2601afa9970>]"
      ]
     },
     "execution_count": 111,
     "metadata": {},
     "output_type": "execute_result"
    },
    {
     "data": {
      "image/png": "[encoded data removed]",
      "text/plain": [
       "<Figure size 1000x500 with 1 Axes>"
      ]
     },
     "metadata": {},
     "output_type": "display_data"
    }
   ],
   "source": [
    "from matplotlib import pyplot as plt\n",
    "plt.figure(figsize=(10,5))\n",
    "plt.plot(thetas)\n",
    "x = np.linspace(0,len(thetas)-1,100)\n",
    "y1 = real_theta*np.ones_like(x)\n",
    "tik = np.arange(0,len(thetas))\n",
    "plt.xticks(tik)\n",
    "plt.xlabel('Iteration Steps')\n",
    "plt.ylabel('theta k')\n",
    "plt.plot(x,y1,'--',lw=2,color='red')\n"
   ]
  },
  {
   "cell_type": "markdown",
   "metadata": {},
   "source": [
    "It only takes 44 steps to converge to the true value of $\\theta$"
   ]
  },
  {
   "cell_type": "markdown",
   "metadata": {},
   "source": []
  }
 ],
 "metadata": {
  "kernelspec": {
   "display_name": "Python 3",
   "language": "python",
   "name": "python3"
  },
  "language_info": {
   "codemirror_mode": {
    "name": "ipython",
    "version": 3
   },
   "file_extension": ".py",
   "mimetype": "text/x-python",
   "name": "python",
   "nbconvert_exporter": "python",
   "pygments_lexer": "ipython3",
   "version": "3.8.5"
  }
 },
 "nbformat": 4,
 "nbformat_minor": 2
}
