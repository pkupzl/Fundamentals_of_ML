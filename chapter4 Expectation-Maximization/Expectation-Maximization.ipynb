{
 "cells": [
  {
   "cell_type": "markdown",
   "metadata": {},
   "source": [
    "# Expectation-Maximization Algorithm"
   ]
  },
  {
   "cell_type": "markdown",
   "metadata": {},
   "source": [
    "reference: - [Expectation-Maximization Algorithm - Wikipedia ](https://en.wikipedia.org/wiki/Expectation%E2%80%93maximization_algorithm)."
   ]
  },
  {
   "cell_type": "markdown",
   "metadata": {},
   "source": [
    "**Attention: The note I use in this notebook maybe different from the textbook.**"
   ]
  },
  {
   "cell_type": "markdown",
   "metadata": {},
   "source": [
    "\n",
    "Given the statistical model which generates a set of observed data $\\boldsymbol{X}$, a set of unobserved latent data or missing values $\\boldsymbol{Z}$, and a vector of unknown parameters $\\boldsymbol{\\theta}$, along with a likelihood function $L(\\boldsymbol{\\theta}; \\boldsymbol{X}, \\boldsymbol{Z}) = p(\\boldsymbol{X}, \\boldsymbol{Z} | \\boldsymbol{\\theta})$, the maximum likelihood estimate (MLE) of the unknown parameters is determined by maximizing the marginal likelihood of the observed data\n",
    "$$\n",
    "L(\\boldsymbol{\\theta}; \\boldsymbol{X}) = p(\\boldsymbol{X} | \\boldsymbol{\\theta}) = \\int_{\\boldsymbol{Z}} p(\\boldsymbol{X}, \\boldsymbol{Z} | \\boldsymbol{\\theta}) d\\boldsymbol{Z} = \\int_{\\boldsymbol{Z}} p(\\boldsymbol{X} | \\boldsymbol{Z}, \\boldsymbol{\\theta}) p(\\boldsymbol{Z} | \\boldsymbol{\\theta}) d\\boldsymbol{Z}\n",
    "$$\n",
    "However, this quantity is often intractable since $\\boldsymbol{Z}$ is unoberseved and the distribution of $\\boldsymbol{Z}$ is unknown before attaining $\\boldsymbol{\\theta}$.<br>\n",
    "Under such situation, we define $(\\boldsymbol{X},\\boldsymbol{Z})$ as complete data and $L_{c}(\\boldsymbol{\\theta};\\boldsymbol{X},\\boldsymbol{Z})$ as complete-data log likelihood. For any distribution $q(\\boldsymbol{Z})$, we have\n",
    "$$\n",
    "\\left< L_{c}(\\boldsymbol{\\theta};\\boldsymbol{X},\\boldsymbol{Z})\\right>_{q} = \\int_{\\boldsymbol{Z}} q(\\boldsymbol{Z}) L_{c}(\\boldsymbol{\\theta};\\boldsymbol{X},\\boldsymbol{Z}) d\\boldsymbol{Z} = \\int_{\\boldsymbol{Z}} q(\\boldsymbol{Z}) \\log p(\\boldsymbol{X},\\boldsymbol{Z}|\\boldsymbol{\\theta}) d\\boldsymbol{Z}\n",
    "$$\n",
    "By Jensen's inequality, we have\n",
    "$$\n",
    "\\begin{align}\n",
    "\\log p(\\boldsymbol{X}|\\boldsymbol{\\theta}) &= \\log \\int_{\\boldsymbol{Z}} p(\\boldsymbol{X},\\boldsymbol{Z}|\\boldsymbol{\\theta}) d\\boldsymbol{Z} \\\\\n",
    "&= \\log \\int_{\\boldsymbol{Z}} q(\\boldsymbol{Z}) \\frac{p(\\boldsymbol{X},\\boldsymbol{Z}|\\boldsymbol{\\theta})}{q(\\boldsymbol{Z})} d\\boldsymbol{Z} \\\\\n",
    "&\\geq \\int_{\\boldsymbol{Z}} q(\\boldsymbol{Z}) \\log \\frac{p(\\boldsymbol{X},\\boldsymbol{Z}|\\boldsymbol{\\theta})}{q(\\boldsymbol{Z})} d\\boldsymbol{Z} \\\\\n",
    "&= \\left<  L_{c}(\\boldsymbol{\\theta};\\boldsymbol{X},\\boldsymbol{Z})\\right>_{q} - \\left< \\log q(\\boldsymbol{Z}) \\right>_{q}\n",
    "\\end{align}\n",
    "$$\n",
    "Furthermore, we define $H(q) = - \\left< \\log q(\\boldsymbol{Z}) \\right>_{q}$, obviously $H(q)>0$, therefore we find a lower bound of $\\log p(\\boldsymbol{X}|\\boldsymbol{\\theta})$, it can be defined as free energy $F(q,\\boldsymbol{\\theta})$:\n",
    "$$\n",
    "F(q,\\boldsymbol{\\theta}) = \\left<  L_{c}(\\boldsymbol{\\theta};\\boldsymbol{X},\\boldsymbol{Z}) \\right>_{q} + H(q)\n",
    "$$\n",
    "The EM algorithm can be viewed as two alternating maximization steps, that is, as an example of **coordinate descent**. Consider the free energy function:\n",
    "$$\n",
    "F(q,\\boldsymbol{\\theta}) = E_{q}(L_{c}(\\boldsymbol{\\theta};\\boldsymbol{X},\\boldsymbol{Z}) ) + H(q)\n",
    "$$\n",
    "where $q$ is any distribution over the latent variables $\\boldsymbol{Z}$, and $H(q)$ is the entropy of $q$.<br>\n",
    "This function can be written as \n",
    "$$\n",
    "F(q,\\boldsymbol{\\theta}) = -KL(q(\\boldsymbol{Z})||p(\\boldsymbol{Z}|\\boldsymbol{X},\\boldsymbol{\\theta})) + \\log p(\\boldsymbol{X}|\\boldsymbol{\\theta})\n",
    "$$\n",
    "where $KL(q(\\boldsymbol{Z})||p(\\boldsymbol{Z}|\\boldsymbol{X},\\boldsymbol{\\theta}))$ is the Kullback-Leibler divergence between $q(\\boldsymbol{Z})$ and $p(\\boldsymbol{Z}|\\boldsymbol{X},\\boldsymbol{\\theta})$.<br>\n",
    "Then the steps in the EM algorithm may be viewed as:\n",
    "1. E-step: $q^{(t+1)}(\\boldsymbol{Z}) = \\arg \\max_{q(\\boldsymbol{Z})} F(q,\\boldsymbol{\\theta}^{(t)})$\n",
    "2. M-step: $\\boldsymbol{\\theta}^{(t+1)} = \\arg \\max_{\\boldsymbol{\\theta}} F(q^{(t+1)},\\boldsymbol{\\theta})$\n",
    "    \n"
   ]
  },
  {
   "cell_type": "markdown",
   "metadata": {},
   "source": [
    "Firstly, we can prove that $q^{(t+1)} = p(\\boldsymbol{Z}|\\boldsymbol{X},\\boldsymbol{\\theta}^{(t)})$.\n",
    "Then we have $F(q^{(t+1)},\\boldsymbol{\\theta}) =  \\left<  L_{c}(\\boldsymbol{\\theta};\\boldsymbol{X},\\boldsymbol{Z}) \\right>_{q^{(t+1)}} + H(q^{(t+1)})$, and the M-step is to the first term of $F(q^{(t+1)},\\boldsymbol{\\theta})$. It can be presented as:\n",
    "$$\n",
    "\\begin{align}\n",
    "\\boldsymbol{\\theta}^{(t+1)} &= \\arg \\max_{\\boldsymbol{\\theta}} F(q^{(t+1)},\\boldsymbol{\\theta}) \\\\\n",
    "&= \\arg \\max_{\\boldsymbol{\\theta}} \\left<  L_{c}(\\boldsymbol{\\theta};\\boldsymbol{X},\\boldsymbol{Z}) \\right>_{q^{(t+1)}} \\\\\n",
    "&= \\arg \\max_{\\boldsymbol{\\theta}} \\int_{\\boldsymbol{Z}} q^{(t+1)}(\\boldsymbol{Z}) \\log p(\\boldsymbol{X},\\boldsymbol{Z}|\\boldsymbol{\\theta}) d\\boldsymbol{Z} \\\\\n",
    "\\end{align}\n",
    "$$\n",
    "For simplicity, we define $Q(\\boldsymbol{\\theta},\\boldsymbol{\\theta}^{(t)}) = \\int_{\\boldsymbol{Z}} q^{(t+1)}(\\boldsymbol{Z}) \\log p(\\boldsymbol{X},\\boldsymbol{Z}|\\boldsymbol{\\theta}) d\\boldsymbol{Z}= \\int_{\\boldsymbol{Z}} p(\\boldsymbol{Z}|\\boldsymbol{X},\\boldsymbol{\\theta}^{(t)}) \\log p(\\boldsymbol{X},\\boldsymbol{Z}|\\boldsymbol{\\theta}) d\\boldsymbol{Z}$, then we have the equivlent form of EM algorithm:\n",
    "$$\n",
    "\\begin{align}\n",
    "&\\text{E-Step:  } Q(\\boldsymbol{\\theta},\\boldsymbol{\\theta}^{(t)}) = \\int_{\\boldsymbol{Z}} p(\\boldsymbol{Z}|\\boldsymbol{X},\\boldsymbol{\\theta}^{(t)}) \\log p(\\boldsymbol{X},\\boldsymbol{Z}|\\boldsymbol{\\theta}) d\\boldsymbol{Z} = E_{\\boldsymbol{Z}|\\boldsymbol{X},\\boldsymbol{\\theta}^{(t)}}(log L(\\boldsymbol{\\theta};\\boldsymbol{X},\\boldsymbol{Z})) \\\\\n",
    "&\\text{M-Step:  } \\boldsymbol{\\theta}^{(t+1)} = \\arg \\max_{\\boldsymbol{\\theta}} Q(\\boldsymbol{\\theta},\\boldsymbol{\\theta}^{(t)})\n",
    "\\end{align}\n",
    "$$"
   ]
  },
  {
   "cell_type": "markdown",
   "metadata": {},
   "source": []
  }
 ],
 "metadata": {
  "language_info": {
   "name": "python"
  }
 },
 "nbformat": 4,
 "nbformat_minor": 2
}
