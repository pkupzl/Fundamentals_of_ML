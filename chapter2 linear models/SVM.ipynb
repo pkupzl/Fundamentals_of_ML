{
 "cells": [
  {
   "cell_type": "markdown",
   "metadata": {},
   "source": [
    "# Support Vector Machine (SVM)"
   ]
  },
  {
   "cell_type": "markdown",
   "metadata": {},
   "source": [
    "### Chapter 1 foundation of SVM"
   ]
  },
  {
   "cell_type": "markdown",
   "metadata": {},
   "source": [
    "Suppose we have an optimization problem:\n",
    "$$\n",
    "\\begin{aligned}\n",
    "\\min_{\\bm{x}}f(\\bm{x}) \\\\\n",
    "s.t. \\quad & h_{i}(\\bm{x})\\leq 0, &i=1,2,\\cdots,m \\\\\n",
    "     \\quad & g_{j}(\\bm{x})=0,     &j=1,2,\\cdots,n\n",
    "\\end{aligned}\n",
    "$$\n",
    "where $f(\\bm{x})$ is the objective function, $h_{i}(\\bm{x})$ are inequality constraints, $g_{j}(\\bm{x})$ are equality constraints.<br>\n",
    "This optimization problem is called **primal problem**. The Lagrange function is:\n",
    "$$\n",
    "L(\\bm{x},\\bm{\\lambda},\\bm{\\mu})=f(\\bm{x})+\\sum_{i=1}^{m}\\lambda_{i}h_{i}(\\bm{x})+\\sum_{j=1}^{n}\\mu_{j}g_{j}(\\bm{x})\n",
    "$$\n",
    "where $\\lambda_{i}$ and $\\mu_{j}$ are Lagrange multipliers.<br>"
   ]
  },
  {
   "cell_type": "markdown",
   "metadata": {},
   "source": [
    "Define the **Lagrange dual function** $\\Gamma(\\bm{\\lambda},\\bm{\\mu}) $ as:\n",
    "$$\\begin{aligned}\n",
    "&\\Gamma(\\bm{\\lambda},\\bm{\\mu})=\\inf_{\\bm{x}\\in \\Psi}L(\\bm{x},\\bm{\\lambda},\\bm{\\mu}) \\\\\n",
    "= &\\inf_{\\bm{x}\\in \\Psi}\\{ f(\\bm{x})+\\sum_{i=1}^{m}\\lambda_{i}h_{i}(\\bm{x})+\\sum_{j=1}^{n}\\mu_{j}g_{j}(\\bm{x}) \\}\n",
    "\\end{aligned}$$\n",
    "where $\\Psi$ is the feasible set of primal problem and $\\bm{\\lambda}\\geq 0$.<br>\n",
    "$$\n",
    "\\begin{aligned}\n",
    "&\\because \\lambda_{i}\\geq 0,\\quad h_{i}(\\bm{x})\\leq 0, \\quad g_{i}(\\bm{x})=0 \\\\\n",
    "&\\therefore \\sum_{i=1}^{m}\\lambda_{i}h_{i}(\\bm{x})+\\sum_{j=1}^{n}\\mu_{j}g_{j}(\\bm{x})\\leq 0\\\\\n",
    "&\\therefore \\Gamma(\\bm{\\lambda},\\bm{\\mu})\\leq L(\\bm{x},\\bm{\\lambda},\\bm{\\mu}) \\leq f(\\bm{x})\\\\\n",
    "&\\therefore \\forall \\bm{\\lambda}\\geq 0,\\bm{\\mu},& \\\\\n",
    "&\\quad \\quad\\Gamma(\\bm{\\lambda},\\bm{\\mu})\\leq p^{*}\\equiv \\min_{\\bm{x}}f(\\bm{x})\n",
    "\\end{aligned}\n",
    "$$\n",
    "where $p^{*}$ is the optimal value of primal problem.<br>\n",
    "From the above, we can get the **Lagrange dual problem**:\n",
    "$$\n",
    "\\begin{aligned}\n",
    "\\max_{\\bm{\\lambda},\\bm{\\mu}}\\quad &\\Gamma(\\bm{\\lambda},\\bm{\\mu}) \\\\\n",
    "s.t. \\quad &\\bm{\\lambda}\\geq 0\n",
    "\\end{aligned}\n",
    "$$\n",
    "The optimal value of dual problem is $d^{*}$, and $d^{*}\\leq p^{*}$."
   ]
  },
  {
   "cell_type": "markdown",
   "metadata": {},
   "source": [
    "If $d^{*}=p^{*}$, we say the strong duality holds. If $d^{*}<p^{*}$, we say the weak duality holds.<br>\n",
    "KKT(Karush-Kuhn-Tucker) conditions:\n",
    "$$\n",
    "\\begin{aligned}\n",
    "&\\nabla_{\\bm{x}}L(\\bm{x}^{*},\\bm{\\lambda}^{*},\\bm{\\mu}^{*})=0 \\\\ \n",
    "& \\lambda_{i}^{*}h_{i}(\\bm{x}^{*})=0 \\\\\n",
    "&h_{i}(\\bm{x}^{*})\\leq 0, g_{j}(\\bm{x}^{*})=0 \\\\\n",
    "&\\lambda_{i}^{*}\\geq 0\n",
    "\\end{aligned}\n",
    "$$\n",
    "where $\\bm{x}^{*}$ is the optimal solution of primal problem, $\\bm{\\lambda}^{*}$ is the optimal solution of dual problem.<br>"
   ]
  },
  {
   "cell_type": "markdown",
   "metadata": {},
   "source": [
    "Proof:\n",
    "$$\n",
    "\\begin{aligned}\n",
    "&\\text{If strong dualily holds. Then} \\\\\n",
    "&f(\\bm{x}^{*})=d^{*}=\\Gamma(\\bm{\\lambda}^{*},\\bm{\\mu}^{*}) \\\\\n",
    "&=\\inf_{\\bm{x}\\in \\Psi}\\{ f(\\bm{x})+\\sum_{i=1}^{m}\\lambda_{i}^{*}h_{i}(\\bm{x})+\\sum_{j=1}^{n}\\mu_{j}^{*}g_{j}(\\bm{x}) \\}\\\\\n",
    "&\\leq f(\\bm{x}^{*})+\\sum_{i=1}^{m}\\lambda_{i}^{*}h_{i}(\\bm{x}^{*})+\\sum_{j=1}^{n}\\mu_{j}^{*}g_{j}(\\bm{x}^{*}) \\\\\n",
    "&\\leq f(\\bm{x}^{*})\n",
    "\\end{aligned}\n",
    "$$\n",
    "From the first inequality we obtain the first KKT condition $\\nabla_{\\bm{x}}L(\\bm{x}^{*},\\bm{\\lambda}^{*},\\bm{\\mu}^{*})=0$. From the second inequality we obtain the second KKT condition $\\lambda_{i}^{*}h_{i}(\\bm{x}^{*})=0 $, which is called complementary slackness. The third KKT condition comes from constraints of the prime problem. The fourth KKT condition comes from the constraints of the dual problem.<br>"
   ]
  },
  {
   "cell_type": "markdown",
   "metadata": {},
   "source": []
  }
 ],
 "metadata": {
  "language_info": {
   "name": "python"
  },
  "orig_nbformat": 4
 },
 "nbformat": 4,
 "nbformat_minor": 2
}
