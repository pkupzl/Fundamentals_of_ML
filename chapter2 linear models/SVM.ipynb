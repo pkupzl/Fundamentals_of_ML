{
 "cells": [
  {
   "cell_type": "markdown",
   "metadata": {},
   "source": [
    "# Support Vector Machine (SVM)"
   ]
  },
  {
   "cell_type": "markdown",
   "metadata": {},
   "source": [
    "### Chapter 1 foundation of SVM"
   ]
  },
  {
   "cell_type": "markdown",
   "metadata": {},
   "source": [
    "Suppose we have an optimization problem:\n",
    "$$\n",
    "\\begin{aligned}\n",
    "\\min_{\\boldsymbol{x}}f(\\boldsymbol{x}) \\\\\n",
    "s.t. \\quad & h_{i}(\\boldsymbol{x})\\leq 0, &i=1,2,\\cdots,m \\\\\n",
    "     \\quad & g_{j}(\\boldsymbol{x})=0,     &j=1,2,\\cdots,n\n",
    "\\end{aligned}\n",
    "$$\n",
    "where $f(\\boldsymbol{x})$ is the objective function, $h_{i}(\\boldsymbol{x})$ are inequality constraints, $g_{j}(\\boldsymbol{x})$ are equality constraints.<br>\n",
    "This optimization problem is called **primal problem**. The Lagrange function is:\n",
    "$$\n",
    "L(\\boldsymbol{x},\\boldsymbol{\\lambda},\\boldsymbol{\\mu})=f(\\boldsymbol{x})+\\sum_{i=1}^{m}\\lambda_{i}h_{i}(\\boldsymbol{x})+\\sum_{j=1}^{n}\\mu_{j}g_{j}(\\boldsymbol{x})\n",
    "$$\n",
    "where $\\lambda_{i}$ and $\\mu_{j}$ are Lagrange multipliers.<br>"
   ]
  },
  {
   "cell_type": "markdown",
   "metadata": {},
   "source": [
    "Define the **Lagrange dual function** $\\Gamma(\\boldsymbol{\\lambda},\\boldsymbol{\\mu}) $ as:\n",
    "$$\\begin{aligned}\n",
    "&\\Gamma(\\boldsymbol{\\lambda},\\boldsymbol{\\mu})=\\inf_{\\boldsymbol{x}\\in \\Psi}L(\\boldsymbol{x},\\boldsymbol{\\lambda},\\boldsymbol{\\mu}) \\\\\n",
    "= &\\inf_{\\boldsymbol{x}\\in \\Psi}\\{ f(\\boldsymbol{x})+\\sum_{i=1}^{m}\\lambda_{i}h_{i}(\\boldsymbol{x})+\\sum_{j=1}^{n}\\mu_{j}g_{j}(\\boldsymbol{x}) \\}\n",
    "\\end{aligned}$$\n",
    "where $\\Psi$ is the feasible set of primal problem and $\\boldsymbol{\\lambda}\\geq 0$.<br>\n",
    "$$\n",
    "\\begin{aligned}\n",
    "&\\because \\lambda_{i}\\geq 0,\\quad h_{i}(\\boldsymbol{x})\\leq 0, \\quad g_{i}(\\boldsymbol{x})=0 \\\\\n",
    "&\\therefore \\sum_{i=1}^{m}\\lambda_{i}h_{i}(\\boldsymbol{x})+\\sum_{j=1}^{n}\\mu_{j}g_{j}(\\boldsymbol{x})\\leq 0\\\\\n",
    "&\\therefore \\Gamma(\\boldsymbol{\\lambda},\\boldsymbol{\\mu})\\leq L(\\boldsymbol{x},\\boldsymbol{\\lambda},\\boldsymbol{\\mu}) \\leq f(\\boldsymbol{x})\\\\\n",
    "&\\therefore \\forall \\boldsymbol{\\lambda}\\geq 0,\\boldsymbol{\\mu},& \\\\\n",
    "&\\quad \\quad\\Gamma(\\boldsymbol{\\lambda},\\boldsymbol{\\mu})\\leq p^{*}\\equiv \\min_{\\boldsymbol{x}}f(\\boldsymbol{x})\n",
    "\\end{aligned}\n",
    "$$\n",
    "where $p^{*}$ is the optimal value of primal problem.<br>\n",
    "From the above, we can get the **Lagrange dual problem**:\n",
    "$$\n",
    "\\begin{aligned}\n",
    "\\max_{\\boldsymbol{\\lambda},\\boldsymbol{\\mu}}\\quad &\\Gamma(\\boldsymbol{\\lambda},\\boldsymbol{\\mu}) \\\\\n",
    "s.t. \\quad &\\boldsymbol{\\lambda}\\geq 0\n",
    "\\end{aligned}\n",
    "$$\n",
    "The optimal value of dual problem is $d^{*}$, and $d^{*}\\leq p^{*}$."
   ]
  },
  {
   "cell_type": "markdown",
   "metadata": {},
   "source": [
    "If $d^{*}=p^{*}$, we say the strong duality holds. If $d^{*}<p^{*}$, we say the weak duality holds.<br>\n",
    "KKT(Karush-Kuhn-Tucker) conditions:\n",
    "$$\n",
    "\\begin{aligned}\n",
    "&\\nabla_{\\boldsymbol{x}}L(\\boldsymbol{x}^{*},\\boldsymbol{\\lambda}^{*},\\boldsymbol{\\mu}^{*})=0 \\\\ \n",
    "& \\lambda_{i}^{*}h_{i}(\\boldsymbol{x}^{*})=0 \\\\\n",
    "&h_{i}(\\boldsymbol{x}^{*})\\leq 0, g_{j}(\\boldsymbol{x}^{*})=0 \\\\\n",
    "&\\lambda_{i}^{*}\\geq 0\n",
    "\\end{aligned}\n",
    "$$\n",
    "where $\\boldsymbol{x}^{*}$ is the optimal solution of primal problem, $\\boldsymbol{\\lambda}^{*}$ is the optimal solution of dual problem.<br>"
   ]
  },
  {
   "cell_type": "markdown",
   "metadata": {},
   "source": [
    "Proof:\n",
    "$$\n",
    "\\begin{aligned}\n",
    "&\\text{If strong dualily holds. Then} \\\\\n",
    "&f(\\boldsymbol{x}^{*})=d^{*}=\\Gamma(\\boldsymbol{\\lambda}^{*},\\boldsymbol{\\mu}^{*}) \\\\\n",
    "&=\\inf_{\\boldsymbol{x}\\in \\Psi}\\{ f(\\boldsymbol{x})+\\sum_{i=1}^{m}\\lambda_{i}^{*}h_{i}(\\boldsymbol{x})+\\sum_{j=1}^{n}\\mu_{j}^{*}g_{j}(\\boldsymbol{x}) \\}\\\\\n",
    "&\\leq f(\\boldsymbol{x}^{*})+\\sum_{i=1}^{m}\\lambda_{i}^{*}h_{i}(\\boldsymbol{x}^{*})+\\sum_{j=1}^{n}\\mu_{j}^{*}g_{j}(\\boldsymbol{x}^{*}) \\\\\n",
    "&\\leq f(\\boldsymbol{x}^{*})\n",
    "\\end{aligned}\n",
    "$$\n",
    "From the first inequality we obtain the first KKT condition $\\nabla_{\\boldsymbol{x}}L(\\boldsymbol{x}^{*},\\boldsymbol{\\lambda}^{*},\\boldsymbol{\\mu}^{*})=0$. From the second inequality we obtain the second KKT condition $\\lambda_{i}^{*}h_{i}(\\boldsymbol{x}^{*})=0 $, which is called complementary slackness. The third KKT condition comes from constraints of the prime problem. The fourth KKT condition comes from the constraints of the dual problem.<br>"
   ]
  },
  {
   "cell_type": "markdown",
   "metadata": {},
   "source": []
  }
 ],
 "metadata": {
  "language_info": {
   "name": "python"
  },
  "orig_nbformat": 4
 },
 "nbformat": 4,
 "nbformat_minor": 2
}
