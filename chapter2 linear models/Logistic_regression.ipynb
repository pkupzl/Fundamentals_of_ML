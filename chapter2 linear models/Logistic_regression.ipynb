{
 "cells": [
  {
   "cell_type": "markdown",
   "metadata": {},
   "source": [
    "# Logistic Regression"
   ]
  },
  {
   "cell_type": "markdown",
   "metadata": {},
   "source": [
    "In this section, we introduce a method to solve the **classification problems**, called **Logistic Regression**.<br>\n",
    "Firstly, we present our dataset $T=\\left \\{(x_{1},y_{1}),\\dots,(x_{n},y_{n}) \\right\\}$. Here, we have $n$ samples, each of which is a pair of data $x_{i}$ and label $y_{i}$.<br>\n",
    "Further, we define the logistic function which we will use later:\n",
    "$$\n",
    "\\sigma(x)=\\frac{1}{1+e^{-x}}\n",
    "$$\n",
    "The curve of the function is plotted below."
   ]
  },
  {
   "cell_type": "markdown",
   "metadata": {},
   "source": [
    "It's not difficult to tell that:\n",
    "- $\\sigma : \\mathbb{R} \\rightarrow (-1,1)$\n",
    "- $\\sigma(0)=0.5 $\n",
    "- $\\sigma^{'}(x)=\\sigma(x)(1-\\sigma(x))$"
   ]
  },
  {
   "cell_type": "code",
   "execution_count": 4,
   "metadata": {},
   "outputs": [
    {
     "data": {
      "text/plain": [
       "[<matplotlib.lines.Line2D at 0x18497a6cac0>]"
      ]
     },
     "execution_count": 4,
     "metadata": {},
     "output_type": "execute_result"
    },
    {
     "data": {
      "image/png": "[encoded data removed]",
      "text/plain": [
       "<Figure size 1000x500 with 1 Axes>"
      ]
     },
     "metadata": {},
     "output_type": "display_data"
    }
   ],
   "source": [
    "import numpy as np\n",
    "import matplotlib.pyplot as plt\n",
    "import pandas as pd\n",
    "def sigma(x):\n",
    "    return 1/(1+np.exp(-x))\n",
    "x = np.linspace(-10,10,100)\n",
    "plt.figure(figsize=(10,5))\n",
    "new_ticks=np.linspace(-5,5,11)\n",
    "plt.yticks(new_ticks)\n",
    "\n",
    "# gca表示get current axes获得当前实例对象，个人觉得有点像java中的this\n",
    "ax=plt.gca()\n",
    "#隐藏右边和上边的边框\n",
    "ax.spines['right'].set_color('none')\n",
    "ax.spines['top'].set_color('none')\n",
    "\n",
    "#ax获得x轴，并将x轴与y中的0对齐\n",
    "ax.xaxis.set_ticks_position('bottom')\n",
    "ax.spines['bottom'].set_position(('data',0))\n",
    "#ax获得y轴，并将y轴与x中的0对齐\n",
    "ax.yaxis.set_ticks_position('left')\n",
    "ax.spines['left'].set_position(('data',0))\n",
    "\n",
    "#隐藏掉y轴的0坐标，不然和x轴重了，不好看，0位于从下到上第6个\n",
    "yticks = ax.yaxis.get_major_ticks()\n",
    "yticks[5].label1.set_visible(False)\n",
    "plt.plot(x,sigma(x))\n"
   ]
  },
  {
   "cell_type": "markdown",
   "metadata": {},
   "source": [
    "For simplicity, the classification problem if limited to binary,meaning that labels $y_{i} = \\pm 1$. We define a $f(x)=w_{1}x_{1}+\\dots+w_{d}x_{d}=\\bm{w}^{T}\\bm{x}$,<br>\n",
    "and our linear model can be represented as :\n",
    "$$ P(y_{i}=1|\\bm{x}_{i})= \\sigma(f(\\bm{x}_{i}))=\\frac{1}{1+e^{-\\bm{w}^{T}\\bm{x}_{i}}} $$ \n",
    "$$ P(y_{i}=-1|\\bm{x}_{i})= 1-\\sigma(f(\\bm{x}_{i}))=\\frac{1}{1+e^{\\bm{w}^{T}\\bm{x}_{i}}} $$\n",
    "or more compactly:\n",
    "$$ P(y_{i}|\\bm{x}_{i})=\\sigma(y_{i}\\bm{w}^{T}\\bm{x}_{i}) $$"
   ]
  },
  {
   "cell_type": "markdown",
   "metadata": {},
   "source": [
    "Now we can define the likelihood function:\n",
    "$$ L(\\bm{w})=\\prod_{i=1}^{n}P(y_{i}|\\bm{x}_{i})=\\prod_{i=1}^{n}\\sigma(y_{i}\\bm{w}^{T}\\bm{x}_{i}) $$\n",
    "and the Negative log-likelihood function:\n",
    "$$ NLL(\\bm{w})=-log(\\prod_{i=1}^{n}P(y_{i}|\\bm{x}_{i}))=-\\sum_{i=1}^{n}\\log P(y_{i}|\\bm{x}_{i})=-\\sum_{i=1}^{n}\\log \\sigma(y_{i}\\bm{w}^{T}\\bm{x}_{i}) $$"
   ]
  },
  {
   "cell_type": "code",
   "execution_count": null,
   "metadata": {},
   "outputs": [],
   "source": []
  },
  {
   "cell_type": "markdown",
   "metadata": {},
   "source": []
  }
 ],
 "metadata": {
  "kernelspec": {
   "display_name": "tensorflow",
   "language": "python",
   "name": "python3"
  },
  "language_info": {
   "codemirror_mode": {
    "name": "ipython",
    "version": 3
   },
   "file_extension": ".py",
   "mimetype": "text/x-python",
   "name": "python",
   "nbconvert_exporter": "python",
   "pygments_lexer": "ipython3",
   "version": "3.8.16"
  },
  "orig_nbformat": 4
 },
 "nbformat": 4,
 "nbformat_minor": 2
}
