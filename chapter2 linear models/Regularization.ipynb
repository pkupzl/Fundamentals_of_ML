{
 "cells": [
  {
   "cell_type": "markdown",
   "metadata": {},
   "source": [
    "# Regularization\n",
    "In this section, we will introduce two ways to regularize regression: **Ridge regression** and **Lasso regression**. "
   ]
  },
  {
   "cell_type": "markdown",
   "metadata": {},
   "source": [
    "Consider the following regression problem:\n",
    "$$\n",
    "\\begin{aligned}\n",
    "\\min_{\\bm{\\omega}} \\quad &  \\|{y} - \\bm{X}\\bm{\\omega}\\|_{2}^{2} \\\\\n",
    "\\end{aligned}\n",
    "$$\n",
    "where $X \\in \\mathbb{R}^{m \\times d}$ and $y \\in \\mathbb{R}^m$ are the data matrix and the response vector, respectively.\n",
    "Now we will restrict the norm of $\\bm{\\omega}$, so that the problem becomes constrained optimization:\n",
    "$$\n",
    "\\begin{aligned}\n",
    "\\min_{\\bm{\\omega}} \\quad &  \\|{y} - \\bm{X}\\bm{\\omega}\\|_{2}^{2} \\quad s.t.\\| \\bm{\\omega}\\|_{2}^{2} \\leq C  \\\\\n",
    "\\end{aligned}\n",
    "$$\n",
    "where $C$ is a positive constant. The above problem can be solved by Lagrange multiplier method. The Lagrangian function is:\n",
    "$$\n",
    "\\begin{aligned}\n",
    "L(\\bm{\\omega}, \\lambda) = \\|{y} - \\bm{X}\\bm{\\omega}\\|_{2}^{2} + \\lambda (\\| \\bm{\\omega}\\|_{2}^{2} - C)\n",
    "\\end{aligned}\n",
    "$$\n",
    "where $\\lambda$ is the Lagrange multiplier depending on $C$. The L2-norm of $\\bm{\\omega}$ refers to **Ridge regression** while the L1-norm refers to **Lasso regression**."
   ]
  },
  {
   "cell_type": "markdown",
   "metadata": {},
   "source": [
    "For Ridge regression, we can derive the solution by take direct derivative of $L(\\bm{\\omega}, \\lambda)$ with respect to $\\bm{\\omega}$ and set it to zero:   \n",
    "$$\n",
    "\\begin{aligned}\n",
    "\\bm{\\omega} = (\\bm{X}^{\\top}\\bm{X} + \\lambda \\bm{I})^{-1}\\bm{X}^{\\top}y\n",
    "\\end{aligned}\n",
    "$$\n",
    "More information of Ridge regression can be found in:\n",
    "- [Ridge_regression - Wikipedia ](https://en.wikipedia.org/wiki/Ridge_regression).\n"
   ]
  },
  {
   "cell_type": "markdown",
   "metadata": {},
   "source": [
    "For Lasso regression, we cannot directly take derivative since $\\| \\bm{\\omega}\\|_{1}^{2}$ is not differentiable. Instead, we can use coordinate descent method, LARS method, ISTA(Iterative Shrinkage-Thresholding Algorithm) based on proximal gredient method and FISTA to get the solution．<br>\n",
    "More information of Ridge regression can be found in:\n",
    "- [LASSO - Wikipedia ](https://en.wikipedia.org/wiki/Lasso_(statistics)).\n"
   ]
  },
  {
   "cell_type": "markdown",
   "metadata": {},
   "source": []
  }
 ],
 "metadata": {
  "language_info": {
   "name": "python"
  }
 },
 "nbformat": 4,
 "nbformat_minor": 2
}
