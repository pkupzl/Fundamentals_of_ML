{
 "cells": [
  {
   "cell_type": "markdown",
   "metadata": {},
   "source": [
    "# Regularization\n",
    "In this section, we will introduce two ways to regularize regression: **Ridge regression** and **Lasso regression**. "
   ]
  },
  {
   "cell_type": "markdown",
   "metadata": {},
   "source": [
    "Consider the following regression problem:\n",
    "$$\n",
    "\\begin{aligned}\n",
    "\\min_{\\boldsymbol{\\omega}} \\quad &  \\|{y} - \\boldsymbol{X}\\boldsymbol{\\omega}\\|_{2}^{2} \\\\\n",
    "\\end{aligned}\n",
    "$$\n",
    "where $X \\in \\mathbb{R}^{m \\times d}$ and $y \\in \\mathbb{R}^m$ are the data matrix and the response vector, respectively.\n",
    "Now we will restrict the norm of $\\boldsymbol{\\omega}$, so that the problem becomes constrained optimization:\n",
    "$$\n",
    "\\begin{aligned}\n",
    "\\min_{\\boldsymbol{\\omega}} \\quad &  \\|{y} - \\boldsymbol{X}\\boldsymbol{\\omega}\\|_{2}^{2} \\quad s.t.\\| \\boldsymbol{\\omega}\\|_{2}^{2} \\leq C  \\\\\n",
    "\\end{aligned}\n",
    "$$\n",
    "where $C$ is a positive constant. The above problem can be solved by Lagrange multiplier method. The Lagrangian function is:\n",
    "$$\n",
    "\\begin{aligned}\n",
    "L(\\boldsymbol{\\omega}, \\lambda) = \\|{y} - \\boldsymbol{X}\\boldsymbol{\\omega}\\|_{2}^{2} + \\lambda (\\| \\boldsymbol{\\omega}\\|_{2}^{2} - C)\n",
    "\\end{aligned}\n",
    "$$\n",
    "where $\\lambda$ is the Lagrange multiplier depending on $C$. The L2-norm of $\\boldsymbol{\\omega}$ refers to **Ridge regression** while the L1-norm refers to **Lasso regression**."
   ]
  },
  {
   "cell_type": "markdown",
   "metadata": {},
   "source": [
    "For Ridge regression, we can derive the solution by take direct derivative of $L(\\boldsymbol{\\omega}, \\lambda)$ with respect to $\\boldsymbol{\\omega}$ and set it to zero:   \n",
    "$$\n",
    "\\begin{aligned}\n",
    "\\boldsymbol{\\omega} = (\\boldsymbol{X}^{\\top}\\boldsymbol{X} + \\lambda \\boldsymbol{I})^{-1}\\boldsymbol{X}^{\\top}y\n",
    "\\end{aligned}\n",
    "$$\n",
    "More information of Ridge regression can be found in:\n",
    "- [Ridge_regression - Wikipedia ](https://en.wikipedia.org/wiki/Ridge_regression).\n"
   ]
  },
  {
   "cell_type": "markdown",
   "metadata": {},
   "source": [
    "For Lasso regression, we cannot directly take derivative since $\\| \\boldsymbol{\\omega}\\|_{1}^{2}$ is not differentiable. Instead, we can use coordinate descent method, LARS method, ISTA(Iterative Shrinkage-Thresholding Algorithm) based on proximal gredient method and FISTA to get the solution．<br>\n",
    "More information of Ridge regression can be found in:\n",
    "- [LASSO - Wikipedia ](https://en.wikipedia.org/wiki/Lasso_(statistics)).\n"
   ]
  }
 ],
 "metadata": {
  "language_info": {
   "name": "python"
  }
 },
 "nbformat": 4,
 "nbformat_minor": 2
}
