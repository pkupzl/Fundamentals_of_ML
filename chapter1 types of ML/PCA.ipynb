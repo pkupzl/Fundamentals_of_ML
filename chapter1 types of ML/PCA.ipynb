{
 "cells": [
  {
   "cell_type": "markdown",
   "metadata": {},
   "source": [
    "# Principal Component Analysis (PCA)"
   ]
  },
  {
   "cell_type": "markdown",
   "metadata": {},
   "source": [
    "Consider our dataset $\\boldsymbol{D}$ composed of $ \\boldsymbol{x}_{1},\\dots,\\boldsymbol{x}_{n}$, where $\\boldsymbol{x}_{i}$ is a $d$-dimensional vector. We want to find a $l$-dimensional subspace of $\\mathbb{R}^{l}$, where $l<d$, such that the projection of the data onto this subspace maximizes the variance of the projected data. \n",
    "We present our dataset as a matrix $\\boldsymbol{X}\\in\\mathbb{R}^{n\\times d}$, and we want to find a matrix $\\boldsymbol{W}\\in\\mathbb{R}^{d\\times l}$ such that the projection of $\\boldsymbol{X}$ onto $\\boldsymbol{W}$ maximizes the variance of the projected data $\\boldsymbol{Y}=\\boldsymbol{X}\\boldsymbol{W}$."
   ]
  },
  {
   "cell_type": "markdown",
   "metadata": {},
   "source": [
    "For simplicity, we assume that the data is centered, i.e., $\\sum_{i=1}^{n}\\boldsymbol{x}_{i}=\\boldsymbol{0}$. The variance of the projected data is given by:<br>\n",
    "$$ Var(\\boldsymbol{Y})=\\frac{1}{n-1}tr(\\boldsymbol{Y}^{T}\\boldsymbol{Y})=tr(\\boldsymbol{W}\\frac{1}{n-1}\\boldsymbol{X}^{T}\\boldsymbol{X}\\boldsymbol{W})$$\n",
    "Here, the covariance matrix of the data is given by $\\boldsymbol{\\Sigma}=\\frac{1}{n-1}\\boldsymbol{X}^{T}\\boldsymbol{X}$, and the variance of the projected data is given by $tr(\\boldsymbol{W}\\boldsymbol{\\Sigma}\\boldsymbol{W}^{T})$.<br>\n",
    "The problem of finding the subspace that maximizes the variance of the projected data can be formulated as:<br>\n",
    "$$\\max_{\\boldsymbol{W}}tr(\\boldsymbol{W}\\boldsymbol{\\Sigma}\\boldsymbol{W}^{T})$$\n",
    "$$s.t.\\quad \\boldsymbol{W}^{T}\\boldsymbol{W}=\\boldsymbol{I}$$\n",
    "The solution of this problem is given by the eigenvectors of $\\boldsymbol{\\Sigma}$ corresponding to the $l$ largest eigenvalues. The proof of this result is given by **Lagrange multiplier**."
   ]
  },
  {
   "cell_type": "code",
   "execution_count": 8,
   "metadata": {},
   "outputs": [
    {
     "name": "stdout",
     "output_type": "stream",
     "text": [
      "eigenvalues [6.061288017909482, 2.3685923016714128e-05]\n",
      "eigenvectors [[-0.4471199  -0.89447403]\n",
      " [-0.89447403  0.4471199 ]]\n"
     ]
    }
   ],
   "source": [
    "import numpy as np\n",
    "feature_dim = 1\n",
    "train_m = 100\n",
    "X1 = np.random.randn(train_m, feature_dim)\n",
    "X2 = 2*X1 + 0.01*np.random.randn(train_m, feature_dim)\n",
    "X = np.hstack((X1, X2))\n",
    "#set the mean to 0\n",
    "X_mean=np.mean(X,axis=0)\n",
    "X = X-X_mean\n",
    "#calculate the covariance matrix\n",
    "covariance_matrix = np.dot(X.T,X)/(train_m-1)\n",
    "#calculate the eigenvalues and eigenvectors\n",
    "eigen_values, W= np.linalg.eig(covariance_matrix)\n",
    "# create a list of tuples each consisting of an eigenvalue and an eigenvector\n",
    "eig_pairs = [(np.abs(eigen_values[i]), W[:, i]) for i in range(len(eigen_values))]\n",
    "\n",
    "# sort the list of tuples from high to low in terms of eigenvalues\n",
    "eig_pairs.sort(key=lambda x: x[0], reverse=True)\n",
    "\n",
    "#sorted eigenvalues and eigenvectors\n",
    "eigenvalues_sorted = [eig_pairs[i][0] for i in range(len(eig_pairs))]\n",
    "W_sorted = [eig_pairs[i][1] for i in range(len(eig_pairs))]\n",
    "W_sorted = np.array(W_sorted).T\n",
    "Y = np.dot(X,W_sorted[:,0:2])\n",
    "print(\"eigenvalues\", eigenvalues_sorted)\n",
    "print(\"eigenvectors\", W_sorted)"
   ]
  },
  {
   "cell_type": "markdown",
   "metadata": {},
   "source": [
    "Further we show the eigenvectors' direction to show that the eigenvectors are orthogonal to each other."
   ]
  },
  {
   "cell_type": "code",
   "execution_count": 9,
   "metadata": {},
   "outputs": [
    {
     "data": {
      "image/png": "[encoded data removed]",
      "text/plain": [
       "<Figure size 250x500 with 1 Axes>"
      ]
     },
     "metadata": {},
     "output_type": "display_data"
    }
   ],
   "source": [
    "from matplotlib import pyplot as plt\n",
    "#N = np.arange(1, train_m+1)\n",
    "plt.figure(figsize=(2.5, 5))\n",
    "ax = plt.axes()\n",
    "plt.scatter(X[:,0],X[:,1], color='red', label='X')\n",
    "#plt.plot([0, W[0,0]], [0, W[1,0]], color='red', linewidth=3)\n",
    "#plt.plot([0, W[0,1]], [0, W[1,1]], color='red', linewidth=3)\n",
    "ax.arrow(0, 0, W_sorted[0,0], W_sorted[1,0], length_includes_head=False,head_width=0.05, fc='b', ec='k',color=(1, 0, 0, 0.3), linewidth=3)\n",
    "#ax.quiver(0,0, W[0,0], W[1,0],color=(1, 0, 0, 0.3),angles='xy', scale_units='xy', scale=1,linewidth=3)\n",
    "ax.arrow(0, 0, W_sorted[0,1], W_sorted[1,1], length_includes_head=False,head_width=0.05, fc='b', ec='k', linewidth=3)\n",
    "ax.grid()\n",
    "plt.show()"
   ]
  },
  {
   "cell_type": "markdown",
   "metadata": {},
   "source": [
    "From the figure we can conclude that the eigenvectors are orthogonal to each other, and eigenvectors captured the relationship between the features."
   ]
  },
  {
   "cell_type": "code",
   "execution_count": null,
   "metadata": {},
   "outputs": [],
   "source": []
  }
 ],
 "metadata": {
  "kernelspec": {
   "display_name": "tensorflow",
   "language": "python",
   "name": "python3"
  },
  "language_info": {
   "codemirror_mode": {
    "name": "ipython",
    "version": 3
   },
   "file_extension": ".py",
   "mimetype": "text/x-python",
   "name": "python",
   "nbconvert_exporter": "python",
   "pygments_lexer": "ipython3",
   "version": "3.8.16"
  },
  "orig_nbformat": 4
 },
 "nbformat": 4,
 "nbformat_minor": 2
}
