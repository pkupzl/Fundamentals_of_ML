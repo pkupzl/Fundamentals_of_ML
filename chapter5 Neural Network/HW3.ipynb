{
 "cells": [
  {
   "cell_type": "markdown",
   "id": "__bohr_old_version_cellId_0__",
   "metadata": {},
   "source": [
    "# HW2｜使用 Pytorch 建立深度学习模型"
   ]
  },
  {
   "cell_type": "markdown",
   "metadata": {},
   "source": [
    "<div style=\"color:black; background-color:#FFF3E9; border: 1px solid #FFE0C3; border-radius: 10px; margin-bottom:1rem\">\n",
    "    <p style=\"margin:1rem; padding-left: 1rem; line-height: 2.5;\">\n",
    "        ©️ <b><i>Copyright 2023 @ Authors</i></b><br/>\n",
    "        <i>本次作业基于<a href=\"mailto:hh@shao.ac.cn\"><b>阙浩辉 📨 </b></a>所制作的<a  href=\"https://bohrium.dp.tech/notebook/b014bcccd07c488b9349cda979504fd7\">Bohrium Notebook “快速开始 PyTorch｜使用 Python 建立深度学习模型”</a>修改</i><br/>\n",
    "        <i>作者：潘振梁 工学院 2000011035</i><br/>\n",
    "        <i><strong>共回答3个问题（橙色文字部分）</strong></i><br/>\n",
    "        <i>你可以将该文件保存在bohrium数据盘中，选择镜像进行连接，方便的开始运行、修改与保存。</i><br/>\n",
    "    </p>\n",
    "</div>"
   ]
  },
  {
   "cell_type": "markdown",
   "id": "__bohr_old_version_cellId_3__",
   "metadata": {},
   "source": [
    "🎯 <b style='color:purple'>本教程旨在<u>快速掌握</u>使用 PyTorch 建立深度学习模型的范式周期。</b>\n",
    "\n",
    "* 一键运行，你可以快速在实践中检验你的想法。\n",
    "\n",
    "* 丰富完善的注释，对于入门者友好。"
   ]
  },
  {
   "cell_type": "markdown",
   "id": "__bohr_old_version_cellId_4__",
   "metadata": {},
   "source": [
    "**在 [Bohrium Notebook](https://bohrium-doc.dp.tech/docs/userguide/Notebook) 界面，你可以点击界面上方蓝色按钮 `开始连接`，选择 `bohrium-notebook` 镜像及任何一款节点配置，稍等片刻即可运行。**\n",
    "\n",
    "<div style=\"width:auto; height:2px; background:linear-gradient(244deg,rgba(0,0,0,0) 0%,rgba(0,0,0,0.5) 50%,rgba(0,0,0,1) 100%)\"></div>"
   ]
  },
  {
   "cell_type": "markdown",
   "id": "__bohr_old_version_cellId_5__",
   "metadata": {},
   "source": [
    "## 目标\n",
    "\n",
    "> **掌握使用 PyTorch 建立深度学习模型的范式周期，并了解其中的关键概念。**\n",
    "\n",
    "在学习本教程后，你将能够：\n",
    "\n",
    "- 初识 PyTorch，安装 PyTorch 并验证其运行。\n",
    "- 通过五个步骤了解建立、拟合和验证 PyTorch 模型的范式周期。\n",
    "- 掌握如何为回归、分类预测任务建立 PyTorch 深度学习模型。"
   ]
  },
  {
   "cell_type": "markdown",
   "id": "__bohr_old_version_cellId_6__",
   "metadata": {},
   "source": [
    "## 目录\n",
    "\n",
    "* [背景](#background)\n",
    "* [实践](#practice)\n",
    "  * [1 认识 PyTorch](#whatispytorch)\n",
    "    * [1.1 Torch 与 PyTorch](#1-1)\n",
    "    * [1.2 安装 PyTorch](#1-2)\n",
    "    * [1.3 验证安装并查看 PyTorch 版本](#1-3)\n",
    "  * [2 PyTorch 深度学习模型的建立范式](#pytorchdeeplearningmodellife-cycle)\n",
    "    * [2.1 准备数据](#2-1)\n",
    "    * [2.2 定义模型](#2-2)\n",
    "    * [2.3 训练模型](#2-3)\n",
    "    * [2.4 评估模型](#2-4)\n",
    "    * [2.5 做出预测](#2-5)\n",
    "  * [3 为预测任务建立 PyTorch 深度学习模型](#developpytorchdeeplearningmodels)\n",
    "    * [3.1 建立多分类任务的多层感知机模型](#3-1)\n",
    "    * [3.2 建立回归任务的多层感知机模型](#3-2)\n",
    "    * [3.3 建立图像分类的卷积神经网络模型](#3-3)\n",
    "* [总结](#summary)\n",
    "* [进一步阅读](#furtherreading)\n",
    "* [参考](#references)\n"
   ]
  },
  {
   "cell_type": "markdown",
   "id": "__bohr_old_version_cellId_7__",
   "metadata": {},
   "source": [
    "## 背景 <a id ='background'></a>\n",
    "\n",
    "**你不需要理解所有的事（至少目前是）。** 你的目标是从头到尾完成本教程并获得结果。你不需要在第一次尝试时就了解所有内容。边学习边写下你的问题。使用丰富的 API 文档来了解你正在使用的所有功能。\n",
    "\n",
    "**你不需要精通数学原理。** 数学是描述算法如何工作的基本方式，特别是线性代数、概率和微积分的工具。这些并不是你可以用来了解算法如何工作的唯一工具。你还可以通过使用代码并探索具有不同输入和输出的算法行为来增进了解。了解数学不会告诉你选择哪种算法或如何最好地配置它。你只能通过精心控制的实验来发现这一点。\n",
    "\n",
    "**你不需要知道算法是如何工作的。** 了解限制以及如何配置深度学习算法非常重要。但是学习算法可以稍后进行。你需要在很长一段时间内慢慢建立这种算法知识。今天，首先要熟悉这个平台。\n",
    "\n",
    "**你不需要精通 Python。** 如果你不熟悉 Python 语言，不要担心，Python 的语法是直观的。就像其他语言一样，你只需要专注于函数调用（例如 function（））和赋值（例如 a = “b”）（这已包括了大部分使用场景）。只需开始，稍后再深入了解详细信息。\n",
    "\n",
    "**你不需要成为深度学习专家。** 你可以稍后了解各种算法的优点和局限性，并且你可以阅读大量教程来复习深度学习项目的步骤。\n",
    "\n",
    "**你需要提前了解以下基础知识：**\n",
    "* Python 基础，例如 *class* 和 *function* 的知识。如果你不了解，推荐阅读：\n",
    "    - [Python 函数式编程](https://www.liaoxuefeng.com/wiki/1016959663602400/1017328525009056)\n",
    "    - [Python 类和实例](https://www.liaoxuefeng.com/wiki/1016959663602400/1017496031185408)\n",
    "* 深度学习的基本概念，例如关于什么是特征和标签、训练集和测试集，什么是神经网络。如果你不了解，推荐阅读：\n",
    "    - [训练集、验证集和测试集](https://zhuanlan.zhihu.com/p/48976706)\n",
    "    - [神经网络](https://zh.wikipedia.org/wiki/人工神经网络)"
   ]
  },
  {
   "cell_type": "markdown",
   "id": "__bohr_old_version_cellId_8__",
   "metadata": {},
   "source": [
    "## 实践 <a id='practice'></a>"
   ]
  },
  {
   "cell_type": "markdown",
   "id": "__bohr_old_version_cellId_9__",
   "metadata": {},
   "source": [
    "### 1 认识 PyTorch <a id='whatispytorch'></a>\n",
    "\n",
    "在这一部分，你会了解什么是 PyTorch，在 Bohrium 中使用 PyTorch，验证并查看版本。"
   ]
  },
  {
   "cell_type": "markdown",
   "id": "__bohr_old_version_cellId_10__",
   "metadata": {},
   "source": [
    "#### 1.1 什么是 PyTorch [1] <a id='1-1'></a>\n",
    "\n",
    "[PyTorch](https://github.com/pytorch/pytorch) 是由 Facebook 开发和维护的用于深度学习的开源 Python 库。 \n",
    "\n",
    "该项目于 2016 年启动，并迅速成为开发人员和研究人员中流行的框架。 \n",
    "\n",
    "[Torch](https://github.com/torch/torch7) (*Torch7*) 是一个用 C 编写的用于深度学习的开源项目，通常通过 Lua 接口使用。它是 PyTorch 的前身项目，不再积极开发。 PyTorch 在名称中包含 *“Torch”* 以感谢先前的 torch 库，使用 *\"Py\"* 作为前缀以表明聚焦于 Python。 \n",
    "\n",
    "PyTorch API 简单灵活，使其成为学术界和研究人员开发新的深度学习模型和应用程序的最爱之一。同时，广泛的应用衍生了许多针对特定应用（例如文本、计算机视觉和音频数据）的扩展，并且可作为预训练模型直接使用。因此，它可能是学术界使用最多的库。 \n",
    "\n",
    "与 [Keras](https://machinelearningmastery.com/tensorflow-tutorial-deep-learning-with-tf-keras/) 等更简单的界面相比，PyTorch 的灵活性是以易用性为代价的，尤其是对于初学者而言。选择 PyTorch 而不是 Keras 的意味着放弃了一些易用性、需要面对更陡峭的学习曲线、以及使用更多的代码以获得更大的灵活性，也许还有一个更有活力的学术社区。"
   ]
  },
  {
   "cell_type": "markdown",
   "id": "__bohr_old_version_cellId_11__",
   "metadata": {},
   "source": [
    "#### 1.2 安装 Pytorch <a id='1-2'></a>\n",
    "\n",
    "本教程是一个 [Bohrium](https://www.dp.tech/product/bohrium) Notebook。**Python 程序可直接在浏览器中运行，Bohrium 已安装 PyTorch**。这是学习和使用 PyTorch 的好方法。\n",
    "\n",
    "要按照本教程进行操作，请点击本页顶部的按钮，在 Bohrium Notebook 中运行本笔记本。 \n",
    "\n",
    "1. 你可以点击界面上方蓝色按钮 `开始连接`，选择 `bohrium-notebook` 镜像及任何一款计算机型，稍等片刻即可运行。\n",
    "\n",
    "2. 若要运行笔记本中的所有代码，请点击左上角“ **运行全部单元格** ”。若要一次运行一个代码单元，请选择需要运行的单元格，然后点击左上角 **“运行选中的单元格”** 图标。\n",
    "\n",
    "如果你的 Bohrium 镜像尚未安装 PyTorch， 也可快速通过 pip 安装 torch:"
   ]
  },
  {
   "cell_type": "code",
   "execution_count": 1,
   "id": "__bohr_old_version_cellId_12__",
   "metadata": {},
   "outputs": [
    {
     "name": "stdout",
     "output_type": "stream",
     "text": [
      "Requirement already satisfied: torch in c:\\programdata\\anaconda3\\envs\\tensorflow\\lib\\site-packages (1.13.1)\n",
      "Requirement already satisfied: typing_extensions in c:\\programdata\\anaconda3\\envs\\tensorflow\\lib\\site-packages (from torch) (4.4.0)\n"
     ]
    }
   ],
   "source": [
    "! pip install torch"
   ]
  },
  {
   "cell_type": "markdown",
   "id": "__bohr_old_version_cellId_13__",
   "metadata": {},
   "source": [
    "如果你需要使用更特定于你的平台或包管理器的安装方法，你可以在[这里](https://pytorch.org/get-started/locally/)查看更完整的安装说明。\n",
    "\n"
   ]
  },
  {
   "cell_type": "markdown",
   "id": "__bohr_old_version_cellId_14__",
   "metadata": {},
   "source": [
    "#### 1.3 验证 PyTorch 安装并查看版本 <a id='1-3'></a>\n",
    "\n",
    "安装 PyTorch 后，确认库已成功安装并且你可以开始使用它。 \n",
    "\n",
    "不要跳过此步骤。 \n",
    "\n",
    "如果 PyTorch 未正确安装或在此步骤中引发错误，则将无法运行之后的示例。"
   ]
  },
  {
   "cell_type": "code",
   "execution_count": 2,
   "id": "__bohr_old_version_cellId_15__",
   "metadata": {},
   "outputs": [
    {
     "name": "stderr",
     "output_type": "stream",
     "text": [
      "c:\\ProgramData\\Anaconda3\\envs\\tensorflow\\lib\\site-packages\\numpy\\_distributor_init.py:30: UserWarning: loaded more than 1 DLL from .libs:\n",
      "c:\\ProgramData\\Anaconda3\\envs\\tensorflow\\lib\\site-packages\\numpy\\.libs\\libopenblas.WCDJNK7YVMPZQ2ME2ZZHJJRJ3JIKNDB7.gfortran-win_amd64.dll\n",
      "c:\\ProgramData\\Anaconda3\\envs\\tensorflow\\lib\\site-packages\\numpy\\.libs\\libopenblas.XWYDX2IKJW2NMTWSFYNGFUWKQU3LYTCZ.gfortran-win_amd64.dll\n",
      "  warnings.warn(\"loaded more than 1 DLL from .libs:\"\n",
      "c:\\ProgramData\\Anaconda3\\envs\\tensorflow\\lib\\site-packages\\tqdm\\auto.py:22: TqdmWarning: IProgress not found. Please update jupyter and ipywidgets. See https://ipywidgets.readthedocs.io/en/stable/user_install.html\n",
      "  from .autonotebook import tqdm as notebook_tqdm\n"
     ]
    },
    {
     "name": "stdout",
     "output_type": "stream",
     "text": [
      "1.13.1\n"
     ]
    }
   ],
   "source": [
    "import torch\n",
    "print(torch.__version__)  # torch.__version__ 返回安装的 PyTorch 的版本号"
   ]
  },
  {
   "cell_type": "markdown",
   "id": "__bohr_old_version_cellId_16__",
   "metadata": {},
   "source": [
    "### 2 PyTorch 深度学习模型的建立范式 <a id='pytorchdeeplearningmodellife-cycle'></a>\n",
    "\n",
    "在本节中，你将了解深度学习模型的建立范式以及可用于定义模型的 PyTorch API。 \n",
    "\n",
    "建立模型有一个范式，这个非常简单的知识为数据建模和理解 PyTorch API 提供了支撑。 \n",
    "\n",
    "模型建立范式中的五个步骤如下： \n",
    "\n",
    "1. 准备数据。 \n",
    "2. 定义模型。 \n",
    "3. 训练模型。 \n",
    "4. 评估模型。 \n",
    "5. 做出预测。 \n",
    "\n",
    "注意：使用 PyTorch API 有很多方法可以实现这些步骤，我们的目标是向你展示最简单、最常见或最惯用的方法。 \n",
    "\n",
    "接下来让我们依次仔细看看每个步骤。 \n",
    "\n",
    ">在本节中，我们将以 **基于鸢尾花数据集的多分类感知机** 为例进行介绍。\n",
    ">\n",
    ">这个问题涉及在给定花的测量值的情况下预测鸢尾花的种类。\n",
    ">\n",
    ">数据集将使用 Pandas 自动下载，但您可以在此处了解更多信息：\n",
    ">\n",
    "> - [Iris Dataset (csv)](https://raw.githubusercontent.com/jbrownlee/Datasets/master/iris.csv).\n",
    "> - [Iris Dataset Description](https://raw.githubusercontent.com/jbrownlee/Datasets/master/iris.names)."
   ]
  },
  {
   "cell_type": "markdown",
   "id": "__bohr_old_version_cellId_17__",
   "metadata": {},
   "source": [
    "#### 2.1 准备数据 <a id='2-1'></a>\n",
    "\n",
    "\n",
    "第一步是加载和准备数据。 \n",
    "\n",
    "神经网络模型需要输入数据和输出数据。 \n",
    "\n",
    "你可以使用标准 Python 库来加载和准备多维数据，例如 CSV 文件。\n",
    "\n",
    "Pandas 可用于加载你的 CSV 文件，Scikit-Learn 中的工具可用于编码分类数据，例如对标签分类。\n",
    "\n",
    "PyTorch 提供了 Dataset 类，你可以扩展和自定义该类以加载你的数据集。 \n",
    "\n",
    "例如，数据集对象的构造函数可以加载你的数据文件（例如 CSV 文件）。然后，你可以覆盖可用于获取数据集长度（行数或样本数）的 `__len__()` 函数，以及用于按索引获取特定样本的 `__getitem__()` 函数。 \n",
    "\n",
    "加载数据集时，你还可以执行任何所需的转换，例如缩放或编码。 \n",
    "\n",
    "下面提供了自定义数据集类的框架。"
   ]
  },
  {
   "cell_type": "code",
   "execution_count": 3,
   "id": "__bohr_old_version_cellId_18__",
   "metadata": {},
   "outputs": [],
   "source": [
    "import pandas as pd\n",
    "from sklearn.preprocessing import LabelEncoder\n",
    "from torch.utils.data import Dataset\n",
    "from torch.utils.data import random_split\n",
    "\n",
    "# 定义数据集\n",
    "class CSVDataset(Dataset):\n",
    "    # 导入数据集\n",
    "    def __init__(self, path):\n",
    "        # 导入传入路径的数据集为 Pandas DataFrame 格式\n",
    "        df = pd.read_csv(path, header=None)\n",
    "        # 设置神经网络的输入与输出\n",
    "        self.X = df.values[:, :-1]  # 根据你的数据集定义输入属性\n",
    "        self.y = df.values[:, -1]  # 根据你的数据集定义输出属性\n",
    "        # 确保输入的数据是浮点型\n",
    "        self.X = self.X.astype('float32')\n",
    "        # 使用浮点型标签编码原输出\n",
    "        self.y = LabelEncoder().fit_transform(self.y)\n",
    " \n",
    "    # 定义获得数据集长度的方法\n",
    "    def __len__(self):\n",
    "        return len(self.X)\n",
    " \n",
    "    # 定义获得某一行数据的方法\n",
    "    def __getitem__(self, idx):\n",
    "        return [self.X[idx], self.y[idx]]\n",
    "    \n",
    "    # 在类内部定义划分训练集和测试集的方法，在本例中，训练集比例为 0.67，测试集比例为 0.33\n",
    "    def get_splits(self, n_test=0.33):\n",
    "        # 确定训练集和测试集的尺寸\n",
    "        test_size = round(n_test * len(self.X))\n",
    "        train_size = len(self.X) - test_size\n",
    "        # 根据尺寸划分训练集和测试集并返回\n",
    "        return random_split(self, [train_size, test_size])"
   ]
  },
  {
   "cell_type": "markdown",
   "id": "__bohr_old_version_cellId_19__",
   "metadata": {},
   "source": [
    "让我们运行一下定义的 *CSVDataset()* 类中的各方法以加深理解"
   ]
  },
  {
   "cell_type": "code",
   "execution_count": 4,
   "id": "__bohr_old_version_cellId_20__",
   "metadata": {},
   "outputs": [
    {
     "name": "stdout",
     "output_type": "stream",
     "text": [
      "输入矩阵的形状是：(150, 4)\n"
     ]
    }
   ],
   "source": [
    "# 定义数据集路径（在本例中，数据集需为 csv 文件）\n",
    "#data_path = 'https://raw.githubusercontent.com/jbrownlee/Datasets/master/iris.csv'\n",
    "data_path = 'data/iris.csv'\n",
    "# 实例化数据集\n",
    "dataset = CSVDataset(data_path)\n",
    "print(f'输入矩阵的形状是：{dataset.X.shape}')\n",
    "# dataset.X  # 查看输入矩阵 dataset.X"
   ]
  },
  {
   "cell_type": "code",
   "execution_count": 5,
   "id": "__bohr_old_version_cellId_21__",
   "metadata": {},
   "outputs": [
    {
     "name": "stdout",
     "output_type": "stream",
     "text": [
      "输出矩阵的形状是：(150,)\n"
     ]
    }
   ],
   "source": [
    "print(f'输出矩阵的形状是：{dataset.y.shape}')\n",
    "# dataset.y  # 查看输出矩阵"
   ]
  },
  {
   "cell_type": "code",
   "execution_count": 6,
   "id": "__bohr_old_version_cellId_22__",
   "metadata": {},
   "outputs": [
    {
     "name": "stdout",
     "output_type": "stream",
     "text": [
      "150\n",
      "150\n"
     ]
    }
   ],
   "source": [
    "# len() 方法本质上是调用类内部的 __len__() 方法，所以以下方法是等效的。\n",
    "print(len(dataset))\n",
    "print(dataset.__len__())"
   ]
  },
  {
   "cell_type": "code",
   "execution_count": 7,
   "id": "__bohr_old_version_cellId_23__",
   "metadata": {},
   "outputs": [
    {
     "name": "stdout",
     "output_type": "stream",
     "text": [
      "[array([5.9, 3. , 5.1, 1.8], dtype=float32), 2]\n",
      "[array([5.9, 3. , 5.1, 1.8], dtype=float32), 2]\n"
     ]
    }
   ],
   "source": [
    "# dataset[] 方法本质上是调用类内部的 __getitem__ 方法，所以以下方法是等效的。\n",
    "print(dataset[149])\n",
    "print(dataset.__getitem__(149))"
   ]
  },
  {
   "cell_type": "markdown",
   "id": "__bohr_old_version_cellId_24__",
   "metadata": {},
   "source": [
    "加载后，PyTorch 提供 *DataLoader* 类，用于在模型训练和评估期间导航数据集实例。 \n",
    "\n",
    "可以为训练数据集、测试数据集甚至验证数据集创建 *DataLoader* 实例。 \n",
    "\n",
    "`random_split()` 函数可用于将数据集拆分为训练集和测试集。\n",
    "\n",
    "拆分后，将数据集中 *batch* 及其 *size* 提供给 *DataLoader*，并可选择是否应在每个 *epoch* 对数据进行随机排序。 \n",
    "\n",
    "> 了解什么是 epoch 和 batch，推荐阅读：[训练神经网络中最基本的三个概念：Epoch, Batch, Iteration](https://zhuanlan.zhihu.com/p/29409502)"
   ]
  },
  {
   "cell_type": "code",
   "execution_count": 8,
   "id": "__bohr_old_version_cellId_25__",
   "metadata": {},
   "outputs": [
    {
     "name": "stdout",
     "output_type": "stream",
     "text": [
      "划分的训练集的数据类型是：<class 'torch.utils.data.dataset.Subset'>\n",
      "划分的训练集长度是：100\n"
     ]
    }
   ],
   "source": [
    "from torch.utils.data import DataLoader\n",
    "from torch.utils.data import random_split\n",
    "\n",
    "...\n",
    "# 确定训练集和测试集的尺寸\n",
    "n_test = 0.33  # 在本例中，训练集比例为 0.67，测试集比例为 0.33\n",
    "test_size = round(n_test * len(dataset.X))\n",
    "train_size = len(dataset.X) - test_size\n",
    "\n",
    "# 根据尺寸划分训练集和测试集并返回\n",
    "train, test = random_split(dataset, [train_size, test_size])\n",
    "\n",
    "# 让我们查看一下创建的训练集的类型和长度\n",
    "print(f'划分的训练集的数据类型是：{type(train)}')\n",
    "print(f'划分的训练集长度是：{len(train)}')"
   ]
  },
  {
   "cell_type": "code",
   "execution_count": 9,
   "id": "__bohr_old_version_cellId_26__",
   "metadata": {},
   "outputs": [
    {
     "data": {
      "text/plain": [
       "[[array([7.7, 2.8, 6.7, 2. ], dtype=float32), 2],\n",
       " [array([4.7, 3.2, 1.3, 0.2], dtype=float32), 0],\n",
       " [array([6.2, 3.4, 5.4, 2.3], dtype=float32), 2],\n",
       " [array([5.7, 2.8, 4.5, 1.3], dtype=float32), 1],\n",
       " [array([5.4, 3.4, 1.7, 0.2], dtype=float32), 0],\n",
       " [array([5.5, 2.6, 4.4, 1.2], dtype=float32), 1],\n",
       " [array([5. , 3.2, 1.2, 0.2], dtype=float32), 0],\n",
       " [array([5.6, 2.5, 3.9, 1.1], dtype=float32), 1],\n",
       " [array([6.9, 3.2, 5.7, 2.3], dtype=float32), 2],\n",
       " [array([4.4, 3.2, 1.3, 0.2], dtype=float32), 0],\n",
       " [array([6.3, 2.8, 5.1, 1.5], dtype=float32), 2],\n",
       " [array([5.2, 3.5, 1.5, 0.2], dtype=float32), 0],\n",
       " [array([5.7, 3.8, 1.7, 0.3], dtype=float32), 0],\n",
       " [array([5.6, 3. , 4.1, 1.3], dtype=float32), 1],\n",
       " [array([6.7, 3. , 5. , 1.7], dtype=float32), 1],\n",
       " [array([6.3, 2.5, 4.9, 1.5], dtype=float32), 1],\n",
       " [array([6.3, 2.3, 4.4, 1.3], dtype=float32), 1],\n",
       " [array([5.7, 2.5, 5. , 2. ], dtype=float32), 2],\n",
       " [array([6.5, 3. , 5.8, 2.2], dtype=float32), 2],\n",
       " [array([5.8, 2.7, 3.9, 1.2], dtype=float32), 1],\n",
       " [array([5.8, 2.7, 4.1, 1. ], dtype=float32), 1],\n",
       " [array([4.3, 3. , 1.1, 0.1], dtype=float32), 0],\n",
       " [array([6.3, 3.3, 6. , 2.5], dtype=float32), 2],\n",
       " [array([5.8, 2.6, 4. , 1.2], dtype=float32), 1],\n",
       " [array([5.1, 3.8, 1.9, 0.4], dtype=float32), 0],\n",
       " [array([5. , 3.6, 1.4, 0.2], dtype=float32), 0],\n",
       " [array([6.4, 3.2, 5.3, 2.3], dtype=float32), 2],\n",
       " [array([6.5, 3.2, 5.1, 2. ], dtype=float32), 2],\n",
       " [array([6.7, 3.3, 5.7, 2.5], dtype=float32), 2],\n",
       " [array([6.4, 2.8, 5.6, 2.2], dtype=float32), 2],\n",
       " [array([5. , 3.5, 1.3, 0.3], dtype=float32), 0],\n",
       " [array([6.8, 3.2, 5.9, 2.3], dtype=float32), 2],\n",
       " [array([6.6, 2.9, 4.6, 1.3], dtype=float32), 1],\n",
       " [array([6.5, 2.8, 4.6, 1.5], dtype=float32), 1],\n",
       " [array([5.9, 3.2, 4.8, 1.8], dtype=float32), 1],\n",
       " [array([5.2, 4.1, 1.5, 0.1], dtype=float32), 0],\n",
       " [array([6.7, 3.1, 4.4, 1.4], dtype=float32), 1],\n",
       " [array([4.6, 3.1, 1.5, 0.2], dtype=float32), 0],\n",
       " [array([7.9, 3.8, 6.4, 2. ], dtype=float32), 2],\n",
       " [array([4.6, 3.6, 1. , 0.2], dtype=float32), 0],\n",
       " [array([4.9, 3.1, 1.5, 0.1], dtype=float32), 0],\n",
       " [array([7. , 3.2, 4.7, 1.4], dtype=float32), 1],\n",
       " [array([6.7, 3.1, 5.6, 2.4], dtype=float32), 2],\n",
       " [array([6. , 3. , 4.8, 1.8], dtype=float32), 2],\n",
       " [array([5. , 3. , 1.6, 0.2], dtype=float32), 0],\n",
       " [array([6. , 3.4, 4.5, 1.6], dtype=float32), 1],\n",
       " [array([5.4, 3.7, 1.5, 0.2], dtype=float32), 0],\n",
       " [array([6.2, 2.2, 4.5, 1.5], dtype=float32), 1],\n",
       " [array([5.8, 4. , 1.2, 0.2], dtype=float32), 0],\n",
       " [array([4.6, 3.4, 1.4, 0.3], dtype=float32), 0],\n",
       " [array([5.1, 3.4, 1.5, 0.2], dtype=float32), 0],\n",
       " [array([5.1, 3.5, 1.4, 0.3], dtype=float32), 0],\n",
       " [array([4.9, 2.4, 3.3, 1. ], dtype=float32), 1],\n",
       " [array([6.4, 3.1, 5.5, 1.8], dtype=float32), 2],\n",
       " [array([7.2, 3. , 5.8, 1.6], dtype=float32), 2],\n",
       " [array([5. , 2.3, 3.3, 1. ], dtype=float32), 1],\n",
       " [array([4.5, 2.3, 1.3, 0.3], dtype=float32), 0],\n",
       " [array([6.4, 3.2, 4.5, 1.5], dtype=float32), 1],\n",
       " [array([5.7, 3. , 4.2, 1.2], dtype=float32), 1],\n",
       " [array([4.8, 3.4, 1.9, 0.2], dtype=float32), 0],\n",
       " [array([6.4, 2.8, 5.6, 2.1], dtype=float32), 2],\n",
       " [array([7.7, 3.8, 6.7, 2.2], dtype=float32), 2],\n",
       " [array([6.7, 3.3, 5.7, 2.1], dtype=float32), 2],\n",
       " [array([5.1, 3.7, 1.5, 0.4], dtype=float32), 0],\n",
       " [array([5. , 2. , 3.5, 1. ], dtype=float32), 1],\n",
       " [array([5.9, 3. , 4.2, 1.5], dtype=float32), 1],\n",
       " [array([5.4, 3.9, 1.3, 0.4], dtype=float32), 0],\n",
       " [array([5.7, 4.4, 1.5, 0.4], dtype=float32), 0],\n",
       " [array([5. , 3.3, 1.4, 0.2], dtype=float32), 0],\n",
       " [array([6.7, 2.5, 5.8, 1.8], dtype=float32), 2],\n",
       " [array([5.6, 2.8, 4.9, 2. ], dtype=float32), 2],\n",
       " [array([6.5, 3. , 5.2, 2. ], dtype=float32), 2],\n",
       " [array([5. , 3.4, 1.6, 0.4], dtype=float32), 0],\n",
       " [array([6. , 2.2, 4. , 1. ], dtype=float32), 1],\n",
       " [array([6.1, 2.8, 4. , 1.3], dtype=float32), 1],\n",
       " [array([6.1, 2.9, 4.7, 1.4], dtype=float32), 1],\n",
       " [array([6.3, 2.7, 4.9, 1.8], dtype=float32), 2],\n",
       " [array([6.3, 2.9, 5.6, 1.8], dtype=float32), 2],\n",
       " [array([5.1, 3.5, 1.4, 0.2], dtype=float32), 0],\n",
       " [array([5.6, 2.7, 4.2, 1.3], dtype=float32), 1],\n",
       " [array([5.7, 2.9, 4.2, 1.3], dtype=float32), 1],\n",
       " [array([5.5, 2.4, 3.8, 1.1], dtype=float32), 1],\n",
       " [array([6.3, 3.4, 5.6, 2.4], dtype=float32), 2],\n",
       " [array([5.8, 2.7, 5.1, 1.9], dtype=float32), 2],\n",
       " [array([6.1, 3. , 4.9, 1.8], dtype=float32), 2],\n",
       " [array([4.8, 3. , 1.4, 0.3], dtype=float32), 0],\n",
       " [array([4.9, 3. , 1.4, 0.2], dtype=float32), 0],\n",
       " [array([7.4, 2.8, 6.1, 1.9], dtype=float32), 2],\n",
       " [array([6.1, 3. , 4.6, 1.4], dtype=float32), 1],\n",
       " [array([5.6, 2.9, 3.6, 1.3], dtype=float32), 1],\n",
       " [array([7.1, 3. , 5.9, 2.1], dtype=float32), 2],\n",
       " [array([5.7, 2.6, 3.5, 1. ], dtype=float32), 1],\n",
       " [array([6.4, 2.9, 4.3, 1.3], dtype=float32), 1],\n",
       " [array([4.9, 3.1, 1.5, 0.1], dtype=float32), 0],\n",
       " [array([7.3, 2.9, 6.3, 1.8], dtype=float32), 2],\n",
       " [array([5. , 3.5, 1.6, 0.6], dtype=float32), 0],\n",
       " [array([5.5, 2.5, 4. , 1.3], dtype=float32), 1],\n",
       " [array([6.8, 3. , 5.5, 2.1], dtype=float32), 2],\n",
       " [array([6.5, 3. , 5.5, 1.8], dtype=float32), 2],\n",
       " [array([4.8, 3.1, 1.6, 0.2], dtype=float32), 0]]"
      ]
     },
     "execution_count": 9,
     "metadata": {},
     "output_type": "execute_result"
    }
   ],
   "source": [
    "list(train)  # 查看一下划分的训练集\n",
    "\n",
    "# 你可以用同样的方法查看一下划分得到的测试集"
   ]
  },
  {
   "cell_type": "markdown",
   "id": "__bohr_old_version_cellId_27__",
   "metadata": {},
   "source": [
    "例如，我们可以通过传入数据集中的选定行来定义 *DataLoader*。"
   ]
  },
  {
   "cell_type": "code",
   "execution_count": 10,
   "id": "__bohr_old_version_cellId_28__",
   "metadata": {},
   "outputs": [
    {
     "name": "stdout",
     "output_type": "stream",
     "text": [
      "100 50\n"
     ]
    }
   ],
   "source": [
    "# 为训练集和测试集创建 DataLoader\n",
    "train_dl = DataLoader(train, batch_size=32, shuffle=True)\n",
    "test_dl = DataLoader(test, batch_size=1024, shuffle=False)\n",
    "print(len(train_dl.dataset), len(test_dl.dataset))"
   ]
  },
  {
   "cell_type": "markdown",
   "id": "__bohr_old_version_cellId_29__",
   "metadata": {},
   "source": [
    "定义后，可以循环 *DataLoader*，每次迭代生成一批样本。"
   ]
  },
  {
   "cell_type": "code",
   "execution_count": 11,
   "id": "__bohr_old_version_cellId_30__",
   "metadata": {},
   "outputs": [
    {
     "name": "stdout",
     "output_type": "stream",
     "text": [
      "第 0 个 batch 有 32 个数据，其中输入矩阵的形状是 torch.Size([32, 4])，输出矩阵的形状是 torch.Size([32])\n",
      "第 1 个 batch 有 32 个数据，其中输入矩阵的形状是 torch.Size([32, 4])，输出矩阵的形状是 torch.Size([32])\n",
      "第 2 个 batch 有 32 个数据，其中输入矩阵的形状是 torch.Size([32, 4])，输出矩阵的形状是 torch.Size([32])\n",
      "第 3 个 batch 有 4 个数据，其中输入矩阵的形状是 torch.Size([4, 4])，输出矩阵的形状是 torch.Size([4])\n",
      "共有 4 个 batches\n"
     ]
    }
   ],
   "source": [
    "# 在本例中，train_dl 的 batch_size 为 32，数据将随机排序。让我们来查看一下 train_dl\n",
    "n_inputs = len(train_dl)\n",
    "for i, (inputs, targets) in enumerate(train_dl):  \n",
    "    print(f'第 {i} 个 batch 有 {len(inputs)} 个数据，其中输入矩阵的形状是 {inputs.shape}，输出矩阵的形状是 {targets.shape}')\n",
    "print(f'共有 {n_inputs} 个 batches')"
   ]
  },
  {
   "cell_type": "markdown",
   "id": "__bohr_old_version_cellId_31__",
   "metadata": {},
   "source": [
    "> enumerate() 函数是 Python 内置函数，用于将一个可遍历的数据对象(如列表、元组或字符串)组合为一个有索引的序列，同时列出数据和数据下标。多用在 for 循环中。\n",
    "> \n",
    "> 尝试在本 Notebook 中运行以下示例并理解 enumerate() 函数。"
   ]
  },
  {
   "cell_type": "code",
   "execution_count": 12,
   "id": "__bohr_old_version_cellId_32__",
   "metadata": {},
   "outputs": [
    {
     "name": "stdout",
     "output_type": "stream",
     "text": [
      "[(1, ('Spring', 'Green')), (2, ('Summer', 'Red')), (3, ('Fall', 'Yellow')), (4, ('Winter', 'White'))]\n",
      "--------\n",
      "My impression 1 about Spring is Green.\n",
      "My impression 2 about Summer is Red.\n",
      "My impression 3 about Fall is Yellow.\n",
      "My impression 4 about Winter is White.\n"
     ]
    }
   ],
   "source": [
    "seasons = [('Spring', 'Green'), \n",
    "           ('Summer', 'Red'), \n",
    "           ('Fall', 'Yellow'), \n",
    "           ('Winter', 'White')\n",
    "           ]\n",
    "print(list(enumerate(seasons, start=1)))  # start 参数设置序列从 1 开始，不填则默认从 0 开始\n",
    "print('--------')\n",
    "\n",
    "# 再在 for 循环中看看 enumerate 函数的效果\n",
    "for i, (season, color) in enumerate(seasons, start=1):\n",
    "    print(f'My impression {i} about {season} is {color}.')"
   ]
  },
  {
   "cell_type": "markdown",
   "id": "__bohr_old_version_cellId_33__",
   "metadata": {},
   "source": [
    "#### 2.2 定义模型 <a id='2-2'></a>\n",
    "\n",
    "下一步是定义模型。 \n",
    "\n",
    "在 PyTorch 中定义模型的习惯用法是定义一个继承 [Module 类]((https://pytorch.org/docs/stable/nn.html#module))的 *Python class* 。\n",
    "\n",
    "你构造的类定义了模型的层，`forward()` 函数需要覆写以定义在模型层中的输入参数的前向传播。\n",
    "\n",
    "> 了解什么是前向传播，推荐阅读：[笔记 | 什么是Forward Propagation](https://blog.csdn.net/bitcarmanlee/article/details/78819025)\n",
    "\n",
    "许多层都可用，例如用于全连接层的 [Linear](https://pytorch.org/docs/stable/nn.html#torch.nn.Linear)，用于卷积层的 [Conv2d](https://pytorch.org/docs/stable/nn.html#torch.nn.Conv2d)，用于池化层的 [MaxPool2d](https://pytorch.org/docs/stable/nn.html#torch.nn.MaxPool2d)。\n",
    "\n",
    "激活函数也可以定义为层，例如 [ReLU](https://pytorch.org/docs/stable/nn.html#torch.nn.ReLU), [Softmax](https://pytorch.org/docs/stable/nn.html#torch.nn.Softmax), 和 [Sigmoid](https://pytorch.org/docs/stable/nn.html#torch.nn.Sigmoid).\n",
    "\n",
    "在构造函数中定义给定层后，也可以初始化给定层的权重。 \n",
    "\n",
    "常见的例子包括 [Xavier](https://pytorch.org/docs/stable/nn.init.html#torch.nn.init.xavier_uniform_) 和 [He weight](https://pytorch.org/docs/stable/nn.init.html#torch.nn.init.kaiming_uniform_)  权重初始化方案。例如：`xavier_uniform_(self.layer.weight)`\n",
    "\n",
    " 下面是一个简单的单层 MLP 模型的示例。"
   ]
  },
  {
   "cell_type": "code",
   "execution_count": 13,
   "id": "__bohr_old_version_cellId_34__",
   "metadata": {},
   "outputs": [],
   "source": [
    "from torch.nn import Linear\n",
    "from torch.nn import ReLU\n",
    "from torch.nn import Softmax\n",
    "from torch.nn import Module\n",
    "from torch.nn.init import kaiming_uniform_\n",
    "from torch.nn.init import xavier_uniform_\n",
    "\n",
    "# 定义模型\n",
    "class MLP(Module):\n",
    "    # 定义模型属性\n",
    "    def __init__(self, n_inputs):\n",
    "        super(MLP, self).__init__()\n",
    "        # 输出层\n",
    "        self.hidden1 = Linear(n_inputs, 10)\n",
    "        kaiming_uniform_(self.hidden1.weight, nonlinearity='relu')\n",
    "        self.act1 = ReLU()\n",
    "        # 第二个隐藏层\n",
    "        self.hidden2 = Linear(10, 8)\n",
    "        kaiming_uniform_(self.hidden2.weight, nonlinearity='relu')\n",
    "        self.act2 = ReLU()\n",
    "        # 第三层\n",
    "        self.hidden3 = Linear(8, 3)\n",
    "        xavier_uniform_(self.hidden3.weight)\n",
    "        self.act3 = Softmax(dim=1)\n",
    " \n",
    "    # 前向传播方法\n",
    "    def forward(self, X):\n",
    "        # 输入到第一个隐藏层\n",
    "        X = self.hidden1(X)\n",
    "        X = self.act1(X)\n",
    "        # 第二个隐藏层\n",
    "        X = self.hidden2(X)\n",
    "        X = self.act2(X)\n",
    "        # 输出层\n",
    "        X = self.hidden3(X)\n",
    "        X = self.act3(X)\n",
    "        return X\n",
    " "
   ]
  },
  {
   "cell_type": "markdown",
   "id": "__bohr_old_version_cellId_35__",
   "metadata": {},
   "source": [
    "#### 2.3 训练模型 <a id='2-3'></a>\n",
    "\n",
    "训练过程要求你定义 **损失函数** 和 **优化算法** 。\n",
    "\n",
    "常见的损失函数包括：\n",
    "- [BCELoss](https://pytorch.org/docs/stable/nn.html#torch.nn.BCELoss): 用于二元分类的 **二元交叉熵损失** (Binary Cross-Entropy Loss)\n",
    "- [CrossEntropyLoss](https://pytorch.org/docs/stable/nn.html#torch.nn.CrossEntropyLoss): 用于多元分类的 **多元交叉熵损失** (Categorical Cross-Entropy Loss)\n",
    "- [MSELoss](https://pytorch.org/docs/stable/nn.html#torch.nn.MSELoss): 用于回归的 **均方损失** (Mean squared loss)\n",
    "\n",
    "> 有关损失函数的更多信息，请参阅教程：\n",
    ">\n",
    "> [用于训练深度学习神经网络的损失和损失函数](https://machinelearningmastery.com/loss-and-loss-functions-for-training-deep-learning-neural-networks/)\n",
    "\n",
    "使用 **随机梯度下降** 进行优化，标准算法由 [SGD class](https://pytorch.org/docs/stable/optim.html#torch.optim.SGD) 提供，该算法的其他版本也可用，例如 [Adam](https://pytorch.org/docs/stable/optim.html#torch.optim.Adam)。\n",
    "\n",
    "> 了解随机梯度下降，请参阅：[如何理解随机梯度下降（stochastic gradient descent，SGD）？](https://www.zhihu.com/question/264189719/answer/932262940)"
   ]
  },
  {
   "cell_type": "code",
   "execution_count": 14,
   "id": "__bohr_old_version_cellId_36__",
   "metadata": {},
   "outputs": [],
   "source": [
    "from torch.optim import SGD\n",
    "from torch.nn import CrossEntropyLoss\n",
    "\n",
    "...\n",
    "model = MLP(n_inputs=n_inputs)\n",
    "# 定义优化器\n",
    "criterion = CrossEntropyLoss()\n",
    "optimizer = SGD(model.parameters(), lr=0.01, momentum=0.9)"
   ]
  },
  {
   "cell_type": "markdown",
   "id": "__bohr_old_version_cellId_37__",
   "metadata": {},
   "source": [
    "训练模型涉及枚举训练数据集的 *DataLoader*。\n",
    "\n",
    "首先，需要为大量的 *training epochs* 建立一个循环。然后，需要为每个 *mini-batch* 建立一个内部循环，用于随机梯度下降。\n",
    "\n",
    "模型的每次更新都涉及相同的常规模式，包括： \n",
    "\n",
    "- 清除最后一个误差梯度。 \n",
    "- 前向传播并计算模型输出。 \n",
    "- 计算模型输出的损失。 \n",
    "- 通过模型反向传播误差。 \n",
    "- 更新模型以减少损失。\n",
    "\n",
    "例如：\n",
    "\n",
    "```python\n",
    "...\n",
    "# 梯度清除\n",
    "optimizer.zero_grad()\n",
    "# 计算模型输出\n",
    "yhat = model(inputs)\n",
    "# 计算损失\n",
    "loss = criterion(yhat, targets)\n",
    "# 贡献度分配\n",
    "loss.backward()\n",
    "# 升级模型权重\n",
    "optimizer.step()\n",
    "```"
   ]
  },
  {
   "cell_type": "code",
   "execution_count": 15,
   "id": "__bohr_old_version_cellId_38__",
   "metadata": {},
   "outputs": [],
   "source": [
    "...\n",
    "import torch\n",
    "# 枚举 epochs\n",
    "for epoch in range(500):\n",
    "    # 枚举 mini-batches\n",
    "    for i, (inputs, targets) in enumerate(train_dl):\n",
    "        # 梯度清除\n",
    "        optimizer.zero_grad()\n",
    "        # 计算模型输出\n",
    "        yhat = model(inputs)\n",
    "        # 计算损失\n",
    "        loss = criterion(yhat, targets.type(torch.LongTensor))\n",
    "        # 贡献度分配\n",
    "        loss.backward()\n",
    "        # 升级模型权重\n",
    "        optimizer.step()"
   ]
  },
  {
   "cell_type": "code",
   "execution_count": 16,
   "metadata": {},
   "outputs": [
    {
     "data": {
      "text/plain": [
       "tensor([1, 2, 1, 1], dtype=torch.int32)"
      ]
     },
     "execution_count": 16,
     "metadata": {},
     "output_type": "execute_result"
    }
   ],
   "source": [
    "targets"
   ]
  },
  {
   "cell_type": "markdown",
   "id": "74852878",
   "metadata": {},
   "source": [
    "<span style='color:orange; font-weight:bold'> 问题一：梯度计算（1） </span>\n",
    "\n",
    "<span style='color:orange'>\n",
    "<strong>为什么每次枚举mini-batch时都要进行梯度消除（即调用zero_grad）？如果不调用会怎么样？</strong></span> <br>\n",
    "\n",
    "\n",
    "<span style='color:purple; font-weight:bold'> 答： </span><span style='color:purple'>\n",
    "这是因为在 PyTorch 和其他深度学习框架中，梯度是累积的。如果在每个 mini-batch 中不清零梯度，梯度会继续累积，导致模型参数更新时的梯度计算错误。如果不调用 zero_grad，梯度将会一直累积，可能导致参数更新错误，模型性能下降，甚至训练过程中出现错误。因此，确保在每个 mini-batch 计算梯度之前都清零是保证梯度计算正确性的关键步骤。</span>"
   ]
  },
  {
   "cell_type": "markdown",
   "id": "__bohr_old_version_cellId_39__",
   "metadata": {},
   "source": [
    "#### 2.4 评估模型 <a id='2-4'></a>\n",
    "\n",
    "模型拟合后，可以在测试数据集上对其进行评估。 \n",
    "\n",
    "可以通过使用测试集的 *DataLoader* 收集测试集的预测值，然后比较模型预测值与测试集的预期值并计算评价指标。"
   ]
  },
  {
   "cell_type": "code",
   "execution_count": 17,
   "id": "__bohr_old_version_cellId_40__",
   "metadata": {},
   "outputs": [
    {
     "name": "stdout",
     "output_type": "stream",
     "text": [
      "0.96\n"
     ]
    }
   ],
   "source": [
    "from numpy import vstack\n",
    "from numpy import argmax\n",
    "from sklearn.metrics import accuracy_score    \n",
    "\n",
    "predictions, actuals = list(), list()  # 实例化预测值列表和预期值列表\n",
    "model.eval()\n",
    "for i, (inputs, targets) in enumerate(test_dl):\n",
    "    # 在测试集上评估模型\n",
    "    yhat = model(inputs)\n",
    "    # 转化为 numpy 数据类型\n",
    "    yhat = yhat.detach().numpy()\n",
    "    actual = targets.numpy()\n",
    "    # 转换为类标签\n",
    "    yhat = argmax(yhat, axis=1)\n",
    "    # 为 stack reshape 矩阵\n",
    "    actual = actual.reshape((len(actual), 1))\n",
    "    yhat = yhat.reshape((len(yhat), 1))\n",
    "    # 保存数据\n",
    "    predictions.append(yhat)\n",
    "    actuals.append(actual)\n",
    "\n",
    "predictions, actuals = vstack(predictions), vstack(actuals)\n",
    "# 计算准确度\n",
    "acc = accuracy_score(actuals, predictions)\n",
    "print(acc)"
   ]
  },
  {
   "cell_type": "markdown",
   "id": "1e71b462",
   "metadata": {},
   "source": [
    "<span style='color:orange; font-weight:bold'> 问题二：梯度计算（2） </span>\n",
    "\n",
    "<span style='color:orange'>\n",
    "<strong>在测试数据上进行评估时，是否需要计算梯度并累积？yhat = yhat.detach().numpy()中的detach()函数作用是什么？</strong></span><br>\n",
    "\n",
    "\n",
    "<span style='color:purple; font-weight:bold'> 答： </span>\n",
    "<span style='color:purple'>\n",
    "测试阶段的目标是使用已经训练好的模型进行预测，而不是通过反向传播进行参数更新。因此，通常可以将模型设置为评估模式，即补充的`model.eval()`,以确保在前向传播时不计算梯度。(同时，`.eval()`方法还将固定模型中可能包含的随机权重，如`nn.dropout()`的权重)； \n",
    "在给定的代码中，通过 yhat.detach().numpy() 的操作，detach() 的作用是将计算图中的某一部分与梯度计算分离。这是因为在 PyTorch 中，yhat 是通过模型前向传播计算得到的张量，它会在计算图中保留梯度信息以支持反向传播。而在测试阶段，我们通常只需获取模型的输出，而不需要计算梯度。因此，detach() 被用于分离 yhat 张量与梯度计算的关联，以便将其转换为 NumPy 数组。</strong></span>"
   ]
  },
  {
   "cell_type": "markdown",
   "id": "__bohr_old_version_cellId_41__",
   "metadata": {},
   "source": [
    "#### 2.5 做出预测 <a id='2-5'></a>\n",
    "\n",
    "拟合模型可用于对新数据进行预测。 \n",
    "\n",
    "例如，您可能有单个图像或一行数据，并且想要进行预测。\n",
    "\n",
    "这需要您将数据包装在 [PyTorch Tensor](https://pytorch.org/docs/stable/tensors.html) 数据结构中。\n",
    "\n",
    "Tensor 只是用于保存 NumPy 数组类型的数据的 PyTorch 版本。它还允许您在模型图中执行自动微分任务，例如在训练模型时调用 `backward()`。 \n",
    "\n",
    "预测也将是一个 Tensor，尽管您可以通过在自动微分图中[分离张量](https://pytorch.org/docs/stable/autograd.html#torch.Tensor.detach)并调用 NumPy 函数来检索 NumPy 数组。\n"
   ]
  },
  {
   "cell_type": "code",
   "execution_count": 18,
   "id": "__bohr_old_version_cellId_42__",
   "metadata": {},
   "outputs": [
    {
     "name": "stdout",
     "output_type": "stream",
     "text": [
      "各标签可能的概率： [[9.9978596e-01 2.1407015e-04 4.5640163e-23]] (最可能的种类：class=0)\n"
     ]
    }
   ],
   "source": [
    "from torch import Tensor\n",
    "\n",
    "...\n",
    "row = [5.1,3.5,1.4,0.2]\n",
    "# 将数据转化为 Tensor\n",
    "row = Tensor([row])\n",
    "# 做出预测\n",
    "yhat = model(row)\n",
    "# 重写为 Numpy Array 格式\n",
    "yhat = yhat.detach().numpy()\n",
    "\n",
    "print(f'各标签可能的概率： {yhat} (最可能的种类：class={argmax(yhat)})')"
   ]
  },
  {
   "cell_type": "markdown",
   "id": "2f698199",
   "metadata": {},
   "source": [
    "### 3 为预测任务建立 PyTorch 深度学习模型 <a id='developpytorchdeeplearningmodels'></a>\n",
    "\n",
    "在本节中，你将了解如何使用标准深度学习模型（包括多层感知器 （Multi Layer Perceptrons, MLP） 和卷积神经网络 （Convolutional Neural Networks, CNN））进行开发、评估和预测。\n",
    "\n",
    "多层感知机模型（MLP）是一种标准的全连接神经网络模型。 \n",
    "\n",
    "它由节点层组成，其中每个节点连接到前一层的所有输出，每个节点的输出连接到下一层节点的所有输入。 \n",
    "\n",
    "MLP 是具有一个或多个完全连接层的模型。此模型适用于表格类型的数据。你可能想使用 MLP 探索两个预测建模问题;它们是多类分类和回归。让我们在真实数据集上为每种情况拟合一个模型。 \n",
    "\n",
    "注意：本节中的模型有效，但未优化。看看你是否可以提高他们的表现。不要犹豫，试试直接在 Bohrium Notebook 中实现你的想法。"
   ]
  },
  {
   "cell_type": "markdown",
   "metadata": {},
   "source": [
    "<span style='color:orange; font-weight:bold'> 问题二：不同预测任务的区别 </span>\n",
    "\n",
    "<span style='color:orange'>\n",
    "<strong>阅读并练习该部分中的三个例子。\n",
    "你将看到，你使用了不同网络（MLP、卷积网络）完成了不同预测任务（多分类任务、回归任务、图像分类任务）。请问在这些不同例子中，建立深度学习模型的一般范式的哪些步骤做了更改，具体需要做什么更改？</strong>\n",
    "\n",
    "1. 准备数据 \n",
    "2. 定义模型\n",
    "3. 训练模型\n",
    "4. 评估模型\n",
    "5. 做出预测\n",
    "</span>\n",
    "\n",
    "<span style='color:purple; font-weight:bold'> 答： </span>\n",
    "<span style='color:purple; font-weight:bold'>\n",
    " - <span style='color:purple;'>准备数据：不同的预测任务需要不同的数据预处理方法，例如对于图像分类任务，需要对图像进行预处理，例如缩放、裁剪、归一化等；对于回归任务，需要对数据进行归一化等。</span>\n",
    "- <span style='color:purple;'>定义模型：不同的预测任务需要不同的模型结构，例如对于图像分类任务，需要使用卷积神经网络；对于回归任务，需要使用多层感知机等。\n",
    "- <span style='color:purple;'>训练模型：不同的预测任务需要不同的损失函数和优化算法，例如对于图像分类任务，需要使用交叉熵损失函数和随机梯度下降算法；对于回归任务，需要使用均方损失函数和随机梯度下降算法等。\n",
    "- <span style='color:purple;'>评估模型：不同的预测任务需要不同的评价指标，例如对于图像分类任务，需要使用准确率等；对于回归任务，需要使用均方误差等。\n",
    "- <span style='color:purple;'>做出预测：不同的预测任务需要不同的预测方法，例如对于图像分类任务，需要使用模型的输出结果中最大值对应的类别作为预测结果；对于回归任务，需要使用模型的输出结果作为预测结果等。</span>"
   ]
  },
  {
   "cell_type": "markdown",
   "id": "27f2b1f2",
   "metadata": {},
   "source": [
    "#### 3.1 建立多分类任务的多层感知机模型 <a id='3-1'></a>\n",
    "\n",
    "我们将使用鸢尾花多元分类数据集来演示用于多元分类的 MLP。(该部分算例为第二部分代码的串联)\n",
    "\n",
    "这个问题涉及在给定花的测量值的情况下预测鸢尾花的种类。\n",
    "\n",
    "数据集将使用 Pandas 自动下载，但您可以在此处了解更多信息：\n",
    "\n",
    "- [Iris Dataset (csv)](https://raw.githubusercontent.com/jbrownlee/Datasets/master/iris.csv).\n",
    "- [Iris Dataset Description](https://raw.githubusercontent.com/jbrownlee/Datasets/master/iris.names).\n",
    "\n",
    "鉴于它是一个多类分类，模型必须为输出层中的每个类提供一个节点，并使用softmax激活函数。损失函数是交叉熵，它适用于整数编码的类标签（例如，0 表示一个类，1 表示下一个类，等等）。\n",
    "\n",
    "下面列出了在鸢尾花数据集上拟合和评估 MLP 的完整示例。\n"
   ]
  },
  {
   "cell_type": "code",
   "execution_count": 48,
   "id": "0b084abe",
   "metadata": {},
   "outputs": [
    {
     "name": "stdout",
     "output_type": "stream",
     "text": [
      "100 50\n",
      "[Epoch 10/500] [average loss: 0.926912]\n",
      "[Epoch 20/500] [average loss: 0.880028]\n",
      "[Epoch 30/500] [average loss: 0.863955]\n",
      "[Epoch 40/500] [average loss: 0.857796]\n",
      "[Epoch 50/500] [average loss: 0.822522]\n",
      "[Epoch 60/500] [average loss: 0.826106]\n",
      "[Epoch 70/500] [average loss: 0.849982]\n",
      "[Epoch 80/500] [average loss: 0.864122]\n",
      "[Epoch 90/500] [average loss: 0.819749]\n",
      "[Epoch 100/500] [average loss: 0.840801]\n",
      "[Epoch 110/500] [average loss: 0.793578]\n",
      "[Epoch 120/500] [average loss: 0.843869]\n",
      "[Epoch 130/500] [average loss: 0.848151]\n",
      "[Epoch 140/500] [average loss: 0.817011]\n",
      "[Epoch 150/500] [average loss: 0.832025]\n",
      "[Epoch 160/500] [average loss: 0.640563]\n",
      "[Epoch 170/500] [average loss: 0.595342]\n",
      "[Epoch 180/500] [average loss: 0.588496]\n",
      "[Epoch 190/500] [average loss: 0.572453]\n",
      "[Epoch 200/500] [average loss: 0.646421]\n",
      "[Epoch 210/500] [average loss: 0.574915]\n",
      "[Epoch 220/500] [average loss: 0.583744]\n",
      "[Epoch 230/500] [average loss: 0.569812]\n",
      "[Epoch 240/500] [average loss: 0.567942]\n",
      "[Epoch 250/500] [average loss: 0.568280]\n",
      "[Epoch 260/500] [average loss: 0.573685]\n",
      "[Epoch 270/500] [average loss: 0.574638]\n",
      "[Epoch 280/500] [average loss: 0.618994]\n",
      "[Epoch 290/500] [average loss: 0.614396]\n",
      "[Epoch 300/500] [average loss: 0.566998]\n",
      "[Epoch 310/500] [average loss: 0.567076]\n",
      "[Epoch 320/500] [average loss: 0.566322]\n",
      "[Epoch 330/500] [average loss: 0.564237]\n",
      "[Epoch 340/500] [average loss: 0.565302]\n",
      "[Epoch 350/500] [average loss: 0.580240]\n",
      "[Epoch 360/500] [average loss: 0.917169]\n",
      "[Epoch 370/500] [average loss: 0.579032]\n",
      "[Epoch 380/500] [average loss: 0.561840]\n",
      "[Epoch 390/500] [average loss: 0.563945]\n",
      "[Epoch 400/500] [average loss: 0.564688]\n",
      "[Epoch 410/500] [average loss: 0.560388]\n",
      "[Epoch 420/500] [average loss: 0.561745]\n",
      "[Epoch 430/500] [average loss: 0.560467]\n",
      "[Epoch 440/500] [average loss: 0.560584]\n",
      "[Epoch 450/500] [average loss: 0.561320]\n",
      "[Epoch 460/500] [average loss: 0.560428]\n",
      "[Epoch 470/500] [average loss: 0.559974]\n",
      "[Epoch 480/500] [average loss: 0.559920]\n",
      "[Epoch 490/500] [average loss: 0.559867]\n",
      "[Epoch 500/500] [average loss: 0.559893]\n",
      "Accuracy: 0.960\n",
      "Predicted: [[9.9999928e-01 7.4811379e-07 8.1939856e-30]] (class=0)\n"
     ]
    }
   ],
   "source": [
    "# PyTorch｜建立多分类任务的多层感知机模型\n",
    "from numpy import vstack\n",
    "from numpy import argmax\n",
    "from pandas import read_csv\n",
    "from sklearn.preprocessing import LabelEncoder\n",
    "from sklearn.metrics import accuracy_score\n",
    "from torch import Tensor\n",
    "from torch.utils.data import Dataset\n",
    "from torch.utils.data import DataLoader\n",
    "from torch.utils.data import random_split\n",
    "from torch.nn import Linear\n",
    "from torch.nn import ReLU\n",
    "from torch.nn import Softmax\n",
    "from torch.nn import Module\n",
    "from torch.optim import SGD\n",
    "from torch.nn import CrossEntropyLoss\n",
    "from torch.nn.init import kaiming_uniform_\n",
    "from torch.nn.init import xavier_uniform_\n",
    "from torch.nn import Sequential\n",
    "from tqdm import tqdm\n",
    "import statistics\n",
    "# 数据集定义\n",
    "class CSVDataset(Dataset):\n",
    "    # 导入数据集\n",
    "    def __init__(self, path):\n",
    "        # 导入传入路径的数据集为 Pandas DataFrame 格式\n",
    "        df = read_csv(path, header=None)\n",
    "        # 设置神经网络的输入与输出\n",
    "        self.X = df.values[:, :-1]\n",
    "        self.y = df.values[:, -1]\n",
    "        # 确保输入数据是浮点型\n",
    "        self.X = self.X.astype('float32')\n",
    "        # 使用浮点型标签编码原输出\n",
    "        self.y = LabelEncoder().fit_transform(self.y)\n",
    " \n",
    "    # 定义获得数据集长度的方法\n",
    "    def __len__(self):\n",
    "        return len(self.X)\n",
    " \n",
    "    # 定义获得某一行数据的方法\n",
    "    def __getitem__(self, idx):\n",
    "        return [self.X[idx], self.y[idx]]\n",
    " \n",
    "    # 在类内部定义划分训练集和测试集的方法，在本例中，训练集比例为 0.67，测试集比例为 0.33\n",
    "    def get_splits(self, n_test=0.33):\n",
    "        # 确定训练集和测试集的尺寸\n",
    "        test_size = round(n_test * len(self.X))\n",
    "        train_size = len(self.X) - test_size\n",
    "        # 根据尺寸划分训练集和测试集并返回\n",
    "        return random_split(self, [train_size, test_size])\n",
    " \n",
    "# 模型定义\n",
    "class MLP(Module):\n",
    "    # 定义模型属性\n",
    "    def __init__(self, n_inputs):\n",
    "        super(MLP, self).__init__()\n",
    "        # 更为简洁的一种写法\n",
    "        def hidden_block(in_dim,out_dim,act_fn,uniform_init):\n",
    "            block = [Linear(in_dim, out_dim)]\n",
    "            if uniform_init=='kaiming_uniform_':\n",
    "                kaiming_uniform_(block[0].weight, nonlinearity='relu')\n",
    "            elif uniform_init=='xavier_uniform_':\n",
    "                xavier_uniform_(block[0].weight)\n",
    "            block.append(act_fn)\n",
    "            return block\n",
    "        self.model = Sequential(\n",
    "            *hidden_block(n_inputs, 10, ReLU(), 'kaiming_uniform_'),\n",
    "            *hidden_block(10, 8, ReLU(), 'kaiming_uniform_'),\n",
    "            *hidden_block(8, 3, Softmax(dim=1), 'xavier_uniform_')\n",
    "        )\n",
    "        '''\n",
    "        # 输入到隐层 1\n",
    "        self.hidden1 = Linear(n_inputs, 10)\n",
    "        kaiming_uniform_(self.hidden1.weight, nonlinearity='relu')\n",
    "        self.act1 = ReLU()\n",
    "        # 隐层 2\n",
    "        self.hidden2 = Linear(10, 8)\n",
    "        kaiming_uniform_(self.hidden2.weight, nonlinearity='relu')\n",
    "        self.act2 = ReLU()\n",
    "        # 隐层 3 和输出\n",
    "        self.hidden3 = Linear(8, 3)\n",
    "        xavier_uniform_(self.hidden3.weight)\n",
    "        self.act3 = Softmax(dim=1)\n",
    "        '''\n",
    "    # 前向传播\n",
    "    def forward(self, X):\n",
    "        '''\n",
    "        # 输入到隐层 1\n",
    "        X = self.hidden1(X)\n",
    "        X = self.act1(X)\n",
    "        # 隐层 2\n",
    "        X = self.hidden2(X)\n",
    "        X = self.act2(X)\n",
    "        # 输出层\n",
    "        X = self.hidden3(X)\n",
    "        X = self.act3(X)\n",
    "        '''\n",
    "        X = self.model(X)\n",
    "        return X\n",
    " \n",
    "# 准备数据集\n",
    "def prepare_data(path):\n",
    "    # 导入数据集\n",
    "    dataset = CSVDataset(path)\n",
    "    # 划分训练集和测试集并返回\n",
    "    train, test = dataset.get_splits()\n",
    "    # 为训练集和测试集创建 DataLoader\n",
    "    train_dl = DataLoader(train, batch_size=32, shuffle=True)\n",
    "    test_dl = DataLoader(test, batch_size=1024, shuffle=False)\n",
    "    return train_dl, test_dl\n",
    " \n",
    "# 训练模型\n",
    "'''\n",
    "def train_model(train_dl, model):\n",
    "    # 定义优化器\n",
    "    criterion = CrossEntropyLoss()\n",
    "    optimizer = SGD(model.parameters(), lr=0.01, momentum=0.9)\n",
    "    # 枚举 epochs\n",
    "    for epoch in range(500):\n",
    "        # 枚举 mini batches\n",
    "        for i, (inputs, targets) in enumerate(train_dl):\n",
    "            # 梯度清除\n",
    "            optimizer.zero_grad()\n",
    "            # 计算模型输出\n",
    "            yhat = model(inputs)\n",
    "            # 计算损失\n",
    "            loss = criterion(yhat, targets.type(torch.LongTensor))\n",
    "            # 贡献度分配\n",
    "            loss.backward()\n",
    "            # 升级模型权重\n",
    "            optimizer.step()\n",
    "'''\n",
    "def train_model(train_dl, model):\n",
    "    # 定义优化器\n",
    "    criterion = CrossEntropyLoss()\n",
    "    optimizer = torch.optim.Adam(model.parameters(), lr=0.01,betas=(0.5,0.999))\n",
    "    # 记录损失\n",
    "    plot_loss=[]\n",
    "    # 枚举 epochs\n",
    "    for epoch in range(500):\n",
    "        # 记录每个 epoch 的平均损失\n",
    "        ave_loss=[]\n",
    "        # 枚举 mini batches\n",
    "        for i, (inputs, targets) in enumerate(train_dl):\n",
    "            # 梯度清除\n",
    "            optimizer.zero_grad()\n",
    "            # 计算模型输出\n",
    "            yhat = model(inputs)\n",
    "            # 计算损失\n",
    "            loss = criterion(yhat, targets.type(torch.LongTensor))\n",
    "            # 贡献度分配\n",
    "            loss.backward()\n",
    "            # 升级模型权重\n",
    "            optimizer.step()\n",
    "            # 记录损失\n",
    "            ave_loss.append(loss.item())\n",
    "        if epoch % 10 == 9:\n",
    "            print(\"[Epoch %d/%d] [average loss: %f]\" % (epoch+1, 500,statistics.mean(ave_loss)))\n",
    "        plot_loss.append(statistics.mean(ave_loss))\n",
    "    \n",
    "    return plot_loss\n",
    "# 评估模型\n",
    "def evaluate_model(test_dl, model):\n",
    "    predictions, actuals = list(), list()\n",
    "    for i, (inputs, targets) in enumerate(test_dl):\n",
    "        # 在测试集上评估模型\n",
    "        yhat = model(inputs)\n",
    "        # 转化为 numpy 数据类型\n",
    "        yhat = yhat.detach().numpy()\n",
    "        actual = targets.numpy()\n",
    "        # 转换为类标签\n",
    "        yhat = argmax(yhat, axis=1)\n",
    "        # 为 stacking reshape 矩阵\n",
    "        actual = actual.reshape((len(actual), 1))\n",
    "        yhat = yhat.reshape((len(yhat), 1))\n",
    "        # 保存\n",
    "        predictions.append(yhat)\n",
    "        actuals.append(actual)\n",
    "    predictions, actuals = vstack(predictions), vstack(actuals)\n",
    "    # 计算准确度\n",
    "    acc = accuracy_score(actuals, predictions)\n",
    "    return acc\n",
    " \n",
    "# 对一行数据进行类预测\n",
    "def predict(row, model):\n",
    "    # 转换源数据\n",
    "    row = Tensor([row])\n",
    "    # 做出预测\n",
    "    yhat = model(row)\n",
    "    # 转化为 numpy 数据类型\n",
    "    yhat = yhat.detach().numpy()\n",
    "    return yhat\n",
    " \n",
    "# 准备数据\n",
    "#path = 'https://raw.githubusercontent.com/jbrownlee/Datasets/master/iris.csv'\n",
    "path = 'data/iris.csv'\n",
    "train_dl, test_dl = prepare_data(path)\n",
    "print(len(train_dl.dataset), len(test_dl.dataset))\n",
    "# 定义网络\n",
    "model = MLP(4)\n",
    "# 训练模型\n",
    "plot_MLP_loss = train_model(train_dl, model)\n",
    "# 评估模型\n",
    "acc = evaluate_model(test_dl, model)\n",
    "print('Accuracy: %.3f' % acc)\n",
    "# 进行单个预测\n",
    "row = [5.1,3.5,1.4,0.2]\n",
    "yhat = predict(row, model)\n",
    "print('Predicted: %s (class=%d)' % (yhat, argmax(yhat)))"
   ]
  },
  {
   "cell_type": "code",
   "execution_count": 50,
   "metadata": {},
   "outputs": [
    {
     "data": {
      "text/plain": [
       "[<matplotlib.lines.Line2D at 0x142eb8816d0>]"
      ]
     },
     "execution_count": 50,
     "metadata": {},
     "output_type": "execute_result"
    },
    {
     "data": {
      "image/png": "[encoded data removed]",
      "text/plain": [
       "<Figure size 640x480 with 1 Axes>"
      ]
     },
     "metadata": {},
     "output_type": "display_data"
    }
   ],
   "source": [
    "import numpy as np\n",
    "from matplotlib import pyplot as plt\n",
    "epoch_array = np.arange(1,501)\n",
    "plt.plot(epoch_array, plot_MLP_loss)"
   ]
  },
  {
   "cell_type": "markdown",
   "id": "90692773",
   "metadata": {},
   "source": [
    "运行示例后，首先报告训练数据集和测试数据集的长度，然后拟合模型并在测试数据集上对其进行评估。最后，对单行数据进行预测。 \n",
    "\n",
    "注意：根据算法或评估过程的随机性质或数值精度的差异，你的[结果可能会有所不同](https://machinelearningmastery.com/different-results-each-time-in-machine-learning/)。请考虑运行几次示例并比较平均结果。 \n",
    "\n",
    "你得到了什么结果？ \n",
    "\n",
    "你能改变模型做得更好吗？\n",
    "\n",
    "你可以试着修改代码以直接输出平均结果吗？\n",
    "\n",
    "不要犹豫，试试直接在 Bohrium Notebook 中实现你的想法。\n",
    "\n",
    "在本例中，我们可以看到该模型实现了大约 98% 的分类准确率，然后预测了其中一行属于某个类的概率，类 0 的概率最高。"
   ]
  },
  {
   "cell_type": "markdown",
   "id": "a12f233d",
   "metadata": {},
   "source": [
    "#### 3.2 建立回归任务的多层感知机模型 <a id='3-2'></a>\n",
    "\n",
    "\n",
    "我们将使用波士顿房价回归数据集来演示用于回归预测建模的 MLP。 \n",
    "\n",
    "这个问题涉及根据房屋和社区的属性预测房屋价值。 \n",
    "\n",
    "数据集将使用 Pandas 自动下载，但您可以在此处了解更多信息。 \n",
    "\n",
    "- [Boston Housing Dataset (csv)](https://raw.githubusercontent.com/jbrownlee/Datasets/master/housing.csv).\n",
    "- [Boston Housing Dataset Description](https://raw.githubusercontent.com/jbrownlee/Datasets/master/housing.names).\n",
    "\n",
    "这是一个回归问题，涉及预测单个数值。因此，输出层具有单个节点，并使用默认或线性激活函数（无激活函数）。通过使均方误差 （mse） 损失最小化来拟合模型。 \n",
    "\n",
    "这是回归，而不是分类;因此，我们无法计算分类准确性。有关此内容的更多信息，请参阅教程： \n",
    "- [机器学习中分类和回归的区别](https://machinelearningmastery.com/classification-versus-regression-in-machine-learning/)\n",
    "\n",
    "下面列出了在波士顿房价数据集上拟合和评估 MLP 的完整示例。"
   ]
  },
  {
   "cell_type": "code",
   "execution_count": 51,
   "id": "28562aa7",
   "metadata": {},
   "outputs": [
    {
     "name": "stdout",
     "output_type": "stream",
     "text": [
      "339 167\n",
      "[Epoch 1/100] [average loss: 271.094009]\n",
      "[Epoch 2/100] [average loss: 114.411905]\n",
      "[Epoch 3/100] [average loss: 102.644790]\n",
      "[Epoch 4/100] [average loss: 90.538844]\n",
      "[Epoch 5/100] [average loss: 92.894029]\n",
      "[Epoch 6/100] [average loss: 91.398338]\n",
      "[Epoch 7/100] [average loss: 89.971405]\n",
      "[Epoch 8/100] [average loss: 87.737686]\n",
      "[Epoch 9/100] [average loss: 86.014819]\n",
      "[Epoch 10/100] [average loss: 87.019124]\n",
      "[Epoch 11/100] [average loss: 87.099016]\n",
      "[Epoch 12/100] [average loss: 89.101952]\n",
      "[Epoch 13/100] [average loss: 87.711209]\n",
      "[Epoch 14/100] [average loss: 87.216484]\n",
      "[Epoch 15/100] [average loss: 87.432016]\n",
      "[Epoch 16/100] [average loss: 88.978396]\n",
      "[Epoch 17/100] [average loss: 88.215528]\n",
      "[Epoch 18/100] [average loss: 88.430747]\n",
      "[Epoch 19/100] [average loss: 86.418154]\n",
      "[Epoch 20/100] [average loss: 90.177058]\n",
      "[Epoch 21/100] [average loss: 87.294307]\n",
      "[Epoch 22/100] [average loss: 87.696093]\n",
      "[Epoch 23/100] [average loss: 87.006482]\n",
      "[Epoch 24/100] [average loss: 87.920820]\n",
      "[Epoch 25/100] [average loss: 87.588026]\n",
      "[Epoch 26/100] [average loss: 89.284207]\n",
      "[Epoch 27/100] [average loss: 88.311145]\n",
      "[Epoch 28/100] [average loss: 86.492270]\n",
      "[Epoch 29/100] [average loss: 87.588379]\n",
      "[Epoch 30/100] [average loss: 87.874442]\n",
      "[Epoch 31/100] [average loss: 90.903762]\n",
      "[Epoch 32/100] [average loss: 89.186720]\n",
      "[Epoch 33/100] [average loss: 91.813185]\n",
      "[Epoch 34/100] [average loss: 89.590842]\n",
      "[Epoch 35/100] [average loss: 86.440586]\n",
      "[Epoch 36/100] [average loss: 90.899044]\n",
      "[Epoch 37/100] [average loss: 87.198709]\n",
      "[Epoch 38/100] [average loss: 86.713190]\n",
      "[Epoch 39/100] [average loss: 85.889037]\n",
      "[Epoch 40/100] [average loss: 85.051510]\n",
      "[Epoch 41/100] [average loss: 85.630150]\n",
      "[Epoch 42/100] [average loss: 86.916500]\n",
      "[Epoch 43/100] [average loss: 87.547941]\n",
      "[Epoch 44/100] [average loss: 92.815636]\n",
      "[Epoch 45/100] [average loss: 86.110014]\n",
      "[Epoch 46/100] [average loss: 87.657942]\n",
      "[Epoch 47/100] [average loss: 88.356355]\n",
      "[Epoch 48/100] [average loss: 86.251419]\n",
      "[Epoch 49/100] [average loss: 100.044765]\n",
      "[Epoch 50/100] [average loss: 94.381247]\n",
      "[Epoch 51/100] [average loss: 88.666645]\n",
      "[Epoch 52/100] [average loss: 98.500303]\n",
      "[Epoch 53/100] [average loss: 91.050615]\n",
      "[Epoch 54/100] [average loss: 88.796117]\n",
      "[Epoch 55/100] [average loss: 89.416819]\n",
      "[Epoch 56/100] [average loss: 88.089812]\n",
      "[Epoch 57/100] [average loss: 85.993359]\n",
      "[Epoch 58/100] [average loss: 87.437338]\n",
      "[Epoch 59/100] [average loss: 89.195893]\n",
      "[Epoch 60/100] [average loss: 89.314155]\n",
      "[Epoch 61/100] [average loss: 88.840777]\n",
      "[Epoch 62/100] [average loss: 86.459054]\n",
      "[Epoch 63/100] [average loss: 87.654258]\n",
      "[Epoch 64/100] [average loss: 90.162836]\n",
      "[Epoch 65/100] [average loss: 85.213122]\n",
      "[Epoch 66/100] [average loss: 90.914050]\n",
      "[Epoch 67/100] [average loss: 87.098820]\n",
      "[Epoch 68/100] [average loss: 88.327151]\n",
      "[Epoch 69/100] [average loss: 88.210772]\n",
      "[Epoch 70/100] [average loss: 87.813110]\n",
      "[Epoch 71/100] [average loss: 85.588800]\n",
      "[Epoch 72/100] [average loss: 85.515979]\n",
      "[Epoch 73/100] [average loss: 87.197676]\n",
      "[Epoch 74/100] [average loss: 87.085138]\n",
      "[Epoch 75/100] [average loss: 86.026226]\n",
      "[Epoch 76/100] [average loss: 85.422380]\n",
      "[Epoch 77/100] [average loss: 88.159665]\n",
      "[Epoch 78/100] [average loss: 89.791531]\n",
      "[Epoch 79/100] [average loss: 90.207438]\n",
      "[Epoch 80/100] [average loss: 88.720630]\n",
      "[Epoch 81/100] [average loss: 87.466150]\n",
      "[Epoch 82/100] [average loss: 89.478222]\n",
      "[Epoch 83/100] [average loss: 89.262097]\n",
      "[Epoch 84/100] [average loss: 86.532316]\n",
      "[Epoch 85/100] [average loss: 88.741690]\n",
      "[Epoch 86/100] [average loss: 84.905087]\n",
      "[Epoch 87/100] [average loss: 88.296042]\n",
      "[Epoch 88/100] [average loss: 84.573553]\n",
      "[Epoch 89/100] [average loss: 88.422088]\n",
      "[Epoch 90/100] [average loss: 86.037686]\n",
      "[Epoch 91/100] [average loss: 87.914978]\n",
      "[Epoch 92/100] [average loss: 85.229230]\n",
      "[Epoch 93/100] [average loss: 92.969673]\n",
      "[Epoch 94/100] [average loss: 90.210772]\n",
      "[Epoch 95/100] [average loss: 87.919364]\n",
      "[Epoch 96/100] [average loss: 86.653015]\n",
      "[Epoch 97/100] [average loss: 86.822199]\n",
      "[Epoch 98/100] [average loss: 88.917216]\n",
      "[Epoch 99/100] [average loss: 93.701049]\n",
      "[Epoch 100/100] [average loss: 90.931467]\n",
      "MSE: 81.413, RMSE: 9.023\n",
      "Predicted: 21.285\n"
     ]
    }
   ],
   "source": [
    "# PyTorch｜建立回归任务的多层感知机模型\n",
    "from numpy import vstack\n",
    "from numpy import sqrt\n",
    "from pandas import read_csv\n",
    "from sklearn.metrics import mean_squared_error\n",
    "from torch.utils.data import Dataset\n",
    "from torch.utils.data import DataLoader\n",
    "from torch.utils.data import random_split\n",
    "from torch import Tensor\n",
    "from torch.nn import Linear\n",
    "from torch.nn import Sigmoid\n",
    "from torch.nn import Module\n",
    "from torch.optim import SGD\n",
    "from torch.nn import MSELoss\n",
    "from torch.nn.init import xavier_uniform_\n",
    "import statistics\n",
    "# 数据集定义\n",
    "class CSVDataset(Dataset):\n",
    "    # 导入数据集\n",
    "    def __init__(self, path):\n",
    "        # 导入传入路径的数据集为 Pandas DataFrame 格式\n",
    "        df = read_csv(path, header=None)\n",
    "        # 设置神经网络的输入与输出\n",
    "        self.X = df.values[:, :-1].astype('float32')\n",
    "        self.y = df.values[:, -1].astype('float32')\n",
    "        # 确保标签有正确的 shape\n",
    "        self.y = self.y.reshape((len(self.y), 1))\n",
    " \n",
    "    # 定义获得数据集长度的方法\n",
    "    def __len__(self):\n",
    "        return len(self.X)\n",
    " \n",
    "    # 定义获得某一行数据的方法\n",
    "    def __getitem__(self, idx):\n",
    "        return [self.X[idx], self.y[idx]]\n",
    " \n",
    "    # 在类内部定义划分训练集和测试集的方法，在本例中，训练集比例为 0.67，测试集比例为 0.33\n",
    "    def get_splits(self, n_test=0.33):\n",
    "        # 确定训练集和测试集的尺寸\n",
    "        test_size = round(n_test * len(self.X))\n",
    "        train_size = len(self.X) - test_size\n",
    "        # 根据尺寸划分训练集和测试集并返回\n",
    "        return random_split(self, [train_size, test_size])\n",
    " \n",
    "# 模型定义\n",
    "class MLP(Module):\n",
    "    # 定义模型属性\n",
    "    def __init__(self, n_inputs):\n",
    "        super(MLP, self).__init__()\n",
    "        # 更为简洁的一种写法\n",
    "        def hidden_block(in_dim,out_dim,act_fn,uniform_init):\n",
    "            block = [Linear(in_dim, out_dim)]\n",
    "            if uniform_init=='xavier_uniform_':\n",
    "                xavier_uniform_(block[0].weight)\n",
    "            block.append(act_fn)\n",
    "            return block\n",
    "        self.model = Sequential(\n",
    "            *hidden_block(n_inputs, 10, Sigmoid(), 'xavier_uniform_'),\n",
    "            *hidden_block(10, 8, Sigmoid(), 'xavier_uniform_'),\n",
    "            Linear(8, 1)\n",
    "        )\n",
    "        '''\n",
    "        # 输入到隐层 1\n",
    "        self.hidden1 = Linear(n_inputs, 10)\n",
    "        xavier_uniform_(self.hidden1.weight)\n",
    "        self.act1 = Sigmoid()\n",
    "        # 隐层 2\n",
    "        self.hidden2 = Linear(10, 8)\n",
    "        xavier_uniform_(self.hidden2.weight)\n",
    "        self.act2 = Sigmoid()\n",
    "        # 隐层 3 和输出\n",
    "        self.hidden3 = Linear(8, 1)\n",
    "        xavier_uniform_(self.hidden3.weight)\n",
    "        '''\n",
    "    # 前向传播\n",
    "    def forward(self, X):\n",
    "        '''\n",
    "        # 输入到隐层 1\n",
    "        X = self.hidden1(X)\n",
    "        X = self.act1(X)\n",
    "         # 隐层 2\n",
    "        X = self.hidden2(X)\n",
    "        X = self.act2(X)\n",
    "        # 隐层 3 和输出\n",
    "        X = self.hidden3(X)\n",
    "        '''\n",
    "        X = self.model(X)\n",
    "        return X\n",
    " \n",
    "# 准备数据集\n",
    "def prepare_data(path):\n",
    "    # 导入数据集\n",
    "    dataset = CSVDataset(path)\n",
    "    # 划分训练集和测试集并返回\n",
    "    train, test = dataset.get_splits()\n",
    "    # 为训练集和测试集创建 DataLoader\n",
    "    train_dl = DataLoader(train, batch_size=32, shuffle=True)\n",
    "    test_dl = DataLoader(test, batch_size=1024, shuffle=False)\n",
    "    return train_dl, test_dl\n",
    "\n",
    "# 训练模型\n",
    "def train_model(train_dl, model):\n",
    "    # 定义优化器\n",
    "    criterion = MSELoss()\n",
    "    optimizer = SGD(model.parameters(), lr=0.01, momentum=0.9)\n",
    "    # 记录损失\n",
    "    plot_loss=[]\n",
    "    # 枚举 epochs\n",
    "    for epoch in range(100):\n",
    "        # 记录每个 epoch 的平均损失\n",
    "        ave_loss=[]\n",
    "        # 枚举 mini batches\n",
    "        for i, (inputs, targets) in enumerate(train_dl):\n",
    "            # 梯度清除\n",
    "            optimizer.zero_grad()\n",
    "            # 计算模型输出\n",
    "            yhat = model(inputs)\n",
    "            # 计算损失\n",
    "            loss = criterion(yhat, targets)\n",
    "            # 贡献度分配\n",
    "            loss.backward()\n",
    "            # 升级模型权重\n",
    "            optimizer.step()\n",
    "            # 记录损失\n",
    "            ave_loss.append(loss.item())\n",
    "        print(\"[Epoch %d/%d] [average loss: %f]\" % (epoch+1, 100,statistics.mean(ave_loss)))\n",
    "        plot_loss.append(statistics.mean(ave_loss))\n",
    "    \n",
    "    return plot_loss\n",
    " \n",
    "# 评估模型\n",
    "def evaluate_model(test_dl, model):\n",
    "    predictions, actuals = list(), list()\n",
    "    for i, (inputs, targets) in enumerate(test_dl):\n",
    "        # 在测试集上评估模型\n",
    "        yhat = model(inputs)\n",
    "        # 转化为 numpy 数据类型\n",
    "        yhat = yhat.detach().numpy()\n",
    "        actual = targets.numpy()\n",
    "        actual = actual.reshape((len(actual), 1))\n",
    "        # 保存\n",
    "        predictions.append(yhat)\n",
    "        actuals.append(actual)\n",
    "    predictions, actuals = vstack(predictions), vstack(actuals)\n",
    "    # 计算均方损失 mse\n",
    "    mse = mean_squared_error(actuals, predictions)\n",
    "    return mse\n",
    " \n",
    "# 对一行数据进行类预测\n",
    "def predict(row, model):\n",
    "    # 转换源数据\n",
    "    row = Tensor([row])\n",
    "    # 做出预测\n",
    "    yhat = model(row)\n",
    "    # 转化为 numpy 数据类型\n",
    "    yhat = yhat.detach().numpy()\n",
    "    return yhat\n",
    " \n",
    "# 准备数据\n",
    "#path = 'https://raw.githubusercontent.com/jbrownlee/Datasets/master/housing.csv'\n",
    "path = 'data/housing.csv'\n",
    "train_dl, test_dl = prepare_data(path)\n",
    "print(len(train_dl.dataset), len(test_dl.dataset))\n",
    "# 定义网络\n",
    "model = MLP(13)\n",
    "# 训练模型\n",
    "plot_MLP_loss = train_model(train_dl, model)\n",
    "# 评估模型\n",
    "mse = evaluate_model(test_dl, model)\n",
    "print('MSE: %.3f, RMSE: %.3f' % (mse, sqrt(mse)))\n",
    "# 进行单个预测\n",
    "row = [0.00632,18.00,2.310,0,0.5380,6.5750,65.20,4.0900,1,296.0,15.30,396.90,4.98]\n",
    "yhat = predict(row, model)\n",
    "print('Predicted: %.3f' % yhat)"
   ]
  },
  {
   "cell_type": "code",
   "execution_count": 52,
   "metadata": {},
   "outputs": [
    {
     "data": {
      "text/plain": [
       "[<matplotlib.lines.Line2D at 0x142eb8c2730>]"
      ]
     },
     "execution_count": 52,
     "metadata": {},
     "output_type": "execute_result"
    },
    {
     "data": {
      "image/png": "[encoded data removed]",
      "text/plain": [
       "<Figure size 640x480 with 1 Axes>"
      ]
     },
     "metadata": {},
     "output_type": "display_data"
    }
   ],
   "source": [
    "import numpy as np\n",
    "epoch_array = np.arange(1,101)\n",
    "plt.plot(epoch_array, plot_MLP_loss)"
   ]
  },
  {
   "cell_type": "markdown",
   "id": "69e93ec6",
   "metadata": {},
   "source": [
    "运行示例后，首先报告训练数据集和测试数据集的长度，然后拟合模型并在测试数据集上对其进行评估。最后，对单行数据进行预测。 \n",
    "\n",
    "注意：根据算法或评估过程的随机性质或数值精度的差异，你的[结果可能会有所不同](https://machinelearningmastery.com/different-results-each-time-in-machine-learning/)。请考虑运行几次示例并比较平均结果。 \n",
    "\n",
    "你得到了什么结果？ \n",
    "\n",
    "你能改变模型做得更好吗？\n",
    "\n",
    "你可以试着修改代码以直接输出平均结果吗？\n",
    "\n",
    "不要犹豫，试试直接在 Bohrium Notebook 中实现你的想法。\n",
    "\n",
    "在本例中，我们可以看到该模型实现了大约 103 的 MSE，即大约 10 的 RMSE（单位是千美元）。然后预测单个示例的值为 21（千美元）。"
   ]
  },
  {
   "cell_type": "markdown",
   "id": "51123680",
   "metadata": {},
   "source": [
    "#### 3.3 建立图像分类的卷积神经网络模型 <a id='3-3'></a>\n",
    "\n",
    "卷积神经网络（简称 CNN）是一种专为图像输入而设计的网络。 \n",
    "\n",
    "它们由具有[卷积层](https://machinelearningmastery.com/convolutional-layers-for-deep-learning-neural-networks/)的模型组成，这些卷积层可以提取特征（称为特征图），而[池化层](https://machinelearningmastery.com/pooling-layers-for-convolutional-neural-networks/)会将特征提取到最突出的元素。 \n",
    "\n",
    "CNN最适合图像分类任务，尽管它们也可以用于将图像作为输入的各种任务。\n",
    "\n",
    "一种流行的图像分类任务是 [MNIST handwritten digit classification](https://en.wikipedia.org/wiki/MNIST_database) 手写数字分类。它涉及数以万计的手写数字，必须归类为 0 到 9 之间的数字。 torchvision API提供了一个方便的功能，可以直接下载和加载这个数据集。 下面的示例加载数据集并绘制前几个图像。"
   ]
  },
  {
   "cell_type": "code",
   "execution_count": 26,
   "id": "7106304b",
   "metadata": {},
   "outputs": [
    {
     "data": {
      "image/png": "[encoded data removed]",
      "text/plain": [
       "<Figure size 640x480 with 25 Axes>"
      ]
     },
     "metadata": {},
     "output_type": "display_data"
    }
   ],
   "source": [
    "# 在 PyTorch 中载入 mnist 数据集\n",
    "from torch.utils.data import DataLoader\n",
    "from torchvision.datasets import MNIST\n",
    "from torchvision.transforms import Compose\n",
    "from torchvision.transforms import ToTensor\n",
    "import matplotlib.pyplot as plt\n",
    "# 定义保存或加载数据集的位置\n",
    "path = 'data/mnist'\n",
    "# 定义要应用于数据的转换\n",
    "trans = Compose([ToTensor()])\n",
    "# 下载并定义数据集\n",
    "train = MNIST(path, train=True, download=True, transform=trans)\n",
    "test = MNIST(path, train=False, download=True, transform=trans)\n",
    "# 定义如何枚举数据集\n",
    "train_dl = DataLoader(train, batch_size=32, shuffle=True)\n",
    "test_dl = DataLoader(test, batch_size=32, shuffle=True)\n",
    "# 以 batch 方式获取图片\n",
    "i, (inputs, targets) = next(enumerate(train_dl))\n",
    "# 绘图\n",
    "for i in range(25):\n",
    " # 定义子图\n",
    " plt.subplot(5, 5, i+1)\n",
    " # 关闭坐标轴\n",
    " plt.axis('off')\n",
    " # 绘制原始像素数据\n",
    " plt.imshow(inputs[i][0], cmap='gray')\n",
    "# 展示图片\n",
    "plt.show()"
   ]
  },
  {
   "cell_type": "markdown",
   "id": "f213f7aa",
   "metadata": {},
   "source": [
    "运行示例加载 MNIST 数据集，然后汇总默认训练和测试数据集。\n",
    "\n",
    "上述代码创建了一个网格图，显示训练数据集中手写图像的示例。"
   ]
  },
  {
   "cell_type": "markdown",
   "id": "0a99f626",
   "metadata": {},
   "source": [
    "我们可以训练一个CNN模型来对MNIST数据集中的图像进行分类。 \n",
    "\n",
    "请注意，图像是灰度像素数据的数组，因此，我们必须向数据添加通道维度，然后才能将图像用作模型的输入。 \n",
    "\n",
    "最好将像素值从默认范围 0-255 缩放为零平均值和标准差 1（标准正态分布）。\n",
    "\n",
    "有关缩放像素值的详细信息，请参阅教程： \n",
    "\n",
    "- [How to Manually Scale Image Pixel Data for Deep Learning](https://machinelearningmastery.com/how-to-manually-scale-image-pixel-data-for-deep-learning/)\n",
    "\n",
    "下面列出了在MNIST数据集上拟合和评估CNN模型的完整示例。"
   ]
  },
  {
   "cell_type": "code",
   "execution_count": 27,
   "id": "51e4084c",
   "metadata": {},
   "outputs": [
    {
     "name": "stdout",
     "output_type": "stream",
     "text": [
      "60000 10000\n",
      "[Epoch 1/10] [average loss: 1.727659]\n",
      "[Epoch 2/10] [average loss: 1.584718]\n",
      "[Epoch 3/10] [average loss: 1.575592]\n",
      "[Epoch 4/10] [average loss: 1.571561]\n",
      "[Epoch 5/10] [average loss: 1.568876]\n",
      "[Epoch 6/10] [average loss: 1.567066]\n",
      "[Epoch 7/10] [average loss: 1.565754]\n",
      "[Epoch 8/10] [average loss: 1.564683]\n",
      "[Epoch 9/10] [average loss: 1.522711]\n",
      "[Epoch 10/10] [average loss: 1.470939]\n",
      "Accuracy: 0.988\n"
     ]
    }
   ],
   "source": [
    "# PyTorch｜建立图像分类的卷积神经网络模型\n",
    "from numpy import vstack\n",
    "from numpy import argmax\n",
    "from pandas import read_csv\n",
    "from sklearn.metrics import accuracy_score\n",
    "from torchvision.datasets import MNIST\n",
    "from torchvision.transforms import Compose\n",
    "from torchvision.transforms import ToTensor\n",
    "from torchvision.transforms import Normalize\n",
    "from torch.utils.data import DataLoader\n",
    "from torch.nn import Conv2d\n",
    "from torch.nn import MaxPool2d\n",
    "from torch.nn import Linear\n",
    "from torch.nn import ReLU\n",
    "from torch.nn import Softmax\n",
    "from torch.nn import Module\n",
    "from torch.optim import SGD\n",
    "from torch.nn import CrossEntropyLoss\n",
    "from torch.nn.init import kaiming_uniform_\n",
    "from torch.nn.init import xavier_uniform_\n",
    "import statistics\n",
    "# 模型定义\n",
    "class CNN(Module):\n",
    "    # 定义模型属性\n",
    "    def __init__(self, n_channels):\n",
    "        super(CNN, self).__init__()\n",
    "        # 更为简洁的一种写法\n",
    "        def CNN_block(in_channels,out_channels,act_fn):\n",
    "            block = [Conv2d(in_channels, out_channels, (3,3))]\n",
    "            kaiming_uniform_(block[0].weight, nonlinearity='relu')\n",
    "            block.append(act_fn)\n",
    "            block.append(MaxPool2d((2,2), stride=(2,2)))\n",
    "            return block\n",
    "        def MLP_block(in_features,out_features,act_fn,uniform_init,nonlinearity='relu'):\n",
    "            block = [Linear(in_features, out_features)]\n",
    "            if uniform_init=='kaiming_uniform_':\n",
    "                kaiming_uniform_(block[0].weight, nonlinearity=nonlinearity)\n",
    "            elif uniform_init=='xavier_uniform_':\n",
    "                xavier_uniform_(block[0].weight)\n",
    "            block.append(act_fn)\n",
    "            return block\n",
    "        self.CNN_model = Sequential(\n",
    "            *CNN_block(n_channels, 32, ReLU()),\n",
    "            *CNN_block(32, 32, ReLU()),\n",
    "        )\n",
    "        self.Linear_model = Sequential(\n",
    "            *MLP_block(5*5*32, 100, ReLU(), 'kaiming_uniform_', 'relu'),\n",
    "            *MLP_block(100, 10, Softmax(dim=1), 'xavier_uniform_'),\n",
    "        )\n",
    "    # 前向传播\n",
    "    def forward(self, X):\n",
    "        X = self.CNN_model(X)\n",
    "        X = X.view(-1, 5*5*32)\n",
    "        X = self.Linear_model(X)\n",
    "        return X\n",
    " \n",
    "# 准备数据集\n",
    "def prepare_data(path):\n",
    "    # 定义标准化\n",
    "    trans = Compose([ToTensor(), Normalize((0.1307,), (0.3081,))])\n",
    "    # 加载数据集\n",
    "    train = MNIST(path, train=True, download=True, transform=trans)\n",
    "    test = MNIST(path, train=False, download=True, transform=trans)\n",
    "    # 为训练集和测试集创建 DataLoader\n",
    "    train_dl = DataLoader(train, batch_size=64, shuffle=True)\n",
    "    test_dl = DataLoader(test, batch_size=1024, shuffle=False)\n",
    "    return train_dl, test_dl\n",
    " \n",
    "# 训练模型\n",
    "def train_model(train_dl, model):\n",
    "    # 定义优化器\n",
    "    criterion = CrossEntropyLoss()\n",
    "    optimizer = SGD(model.parameters(), lr=0.01, momentum=0.9)\n",
    "    # 记录损失\n",
    "    plot_loss=[]\n",
    "    # 枚举 epochs\n",
    "    for epoch in range(10):\n",
    "        # 记录每个 epoch 的平均损失\n",
    "        ave_loss=[]\n",
    "        # 枚举 mini batches\n",
    "        for i, (inputs, targets) in enumerate(train_dl):\n",
    "            # 梯度清除\n",
    "            optimizer.zero_grad()\n",
    "            # 计算模型输出\n",
    "            yhat = model(inputs)\n",
    "            # 计算损失\n",
    "            loss = criterion(yhat, targets)\n",
    "            # 贡献度分配\n",
    "            loss.backward()\n",
    "            # 升级模型权重\n",
    "            optimizer.step()\n",
    "            # 记录损失\n",
    "            ave_loss.append(loss.item())\n",
    "        print(\"[Epoch %d/%d] [average loss: %f]\" % (epoch+1, 10,statistics.mean(ave_loss)))\n",
    "        plot_loss.append(statistics.mean(ave_loss))\n",
    "    \n",
    "    return plot_loss\n",
    " \n",
    "# 评估模型\n",
    "def evaluate_model(test_dl, model):\n",
    "    predictions, actuals = list(), list()\n",
    "    for i, (inputs, targets) in enumerate(test_dl):\n",
    "        # 在测试集上评估模型\n",
    "        yhat = model(inputs)\n",
    "        # 转化为 numpy 数据类型\n",
    "        yhat = yhat.detach().numpy()\n",
    "        actual = targets.numpy()\n",
    "        # 转化为类标签\n",
    "        yhat = argmax(yhat, axis=1)\n",
    "        # 为 stack 格式化数据集\n",
    "        actual = actual.reshape((len(actual), 1))\n",
    "        yhat = yhat.reshape((len(yhat), 1))\n",
    "        # 保存\n",
    "        predictions.append(yhat)\n",
    "        actuals.append(actual)\n",
    "    predictions, actuals = vstack(predictions), vstack(actuals)\n",
    "    # 计算准确度\n",
    "    acc = accuracy_score(actuals, predictions)\n",
    "    return acc\n",
    " \n",
    "# 准备数据\n",
    "path = 'data/mnist'\n",
    "train_dl, test_dl = prepare_data(path)\n",
    "print(len(train_dl.dataset), len(test_dl.dataset))\n",
    "# 定义网络\n",
    "model = CNN(1)\n",
    "# # 训练模型\n",
    "plot_loss = train_model(train_dl, model)  # 该步骤运行约需 5 分钟。\n",
    "# 评估模型\n",
    "acc = evaluate_model(test_dl, model)\n",
    "print('Accuracy: %.3f' % acc)"
   ]
  },
  {
   "cell_type": "markdown",
   "metadata": {},
   "source": [
    "值得注意的是这里的yhat和targets并不是相同维度的向量。然而，并不需要对targets进行one-hot编码，**因为PyTorch的交叉熵损失函数会自动将targets转换为one-hot编码。**"
   ]
  },
  {
   "cell_type": "code",
   "execution_count": 28,
   "metadata": {},
   "outputs": [
    {
     "data": {
      "text/plain": [
       "[<matplotlib.lines.Line2D at 0x2315886c610>]"
      ]
     },
     "execution_count": 28,
     "metadata": {},
     "output_type": "execute_result"
    },
    {
     "data": {
      "image/png": "[encoded data removed]",
      "text/plain": [
       "<Figure size 640x480 with 1 Axes>"
      ]
     },
     "metadata": {},
     "output_type": "display_data"
    }
   ],
   "source": [
    "import numpy as np\n",
    "epoch_array = np.arange(1,11)\n",
    "plt.plot(epoch_array, plot_loss)"
   ]
  },
  {
   "cell_type": "markdown",
   "id": "c31fb483",
   "metadata": {},
   "source": [
    "运行示例后，首先报告训练数据集和测试数据集的长度，然后拟合模型并在测试数据集上对其进行评估。最后，对单行数据进行预测。 \n",
    "\n",
    "注意：根据算法或评估过程的随机性质或数值精度的差异，你的[结果可能会有所不同](https://machinelearningmastery.com/different-results-each-time-in-machine-learning/)。请考虑运行几次示例并比较平均结果。 \n",
    "\n",
    "你得到了什么结果？ \n",
    "\n",
    "你能改变模型做得更好吗？\n",
    "\n",
    "你可以试着修改代码以直接输出平均结果吗？\n",
    "\n",
    "不要犹豫，试试直接在 Bohrium Notebook 中实现你的想法。\n",
    "\n",
    "在本例中，我们可以看到该模型在测试数据集上实现了大约 98% 的分类准确率。"
   ]
  },
  {
   "cell_type": "markdown",
   "metadata": {},
   "source": [
    "<span style='color:orange; font-weight:bold'> 问题三：学习曲线 </span>\n",
    "\n",
    "<span style='color:orange'>\n",
    "学习曲线能够显示模型训练情况，展示模型是否训练收敛、是否过拟合等。根据学习曲线可以调整学习率、判断是否停止训练等等。 \n",
    "\n",
    "<strong>请在上述三个例子中选择一个例子，改写代码，使得每经过10次epoch（训练的epoch总数和输出频次可自行调整），输出该次epoch中，在所有训练集数据上的平均损失（或MSE），以及在测试集上的准确度（或MSE）？并将这两者随epoch的变化画为曲线图。</strong>\n",
    "这样的图片便是学习曲线，请根据它思考可以如何对模型训练做出调整。</span>\n",
    "\n",
    "<span style='color:purple; font-weight:bold'> 答： </span>\n",
    "<span style='color:purple; font-weight:bold'>\n",
    "- <span style='color:purple;'> 可以调整学习率，批次大小，网络结构，优化器等等。</span>\n",
    "- <span style='color:purple;'> 在网络结构方面，可以增加网络层数，增加网络的宽度，增加卷积核的数量，增加全连接层的数量等方式，增强模型的表达能力。还可以通过加入残差连接的方式，使得模型更容易训练。也可以换用其它模型架构，比如卷积神经网络可以用Transformer等架构代替。</span>\n",
    "- <span style='color:purple;'>在优化器方面，常使用Adam优化器，它能够自适应地调整学习率。</span>"
   ]
  },
  {
   "cell_type": "markdown",
   "id": "__bohr_old_version_cellId_60__",
   "metadata": {},
   "source": [
    "## 总结 <a id='summary'></a>\n",
    "\n",
    "在本教程中，您学习了在 PyTorch 中开发深度学习模型的范式。 \n",
    "\n",
    "具体而言，您了解到： \n",
    "- Torch 和 PyTorch 之间的区别以及如何安装和确认 PyTorch 是否正常工作。 \n",
    "- PyTorch 模型的建立范式以及如何定义、拟合和评估模型。 \n",
    "- 如何为回归、分类和预测建模任务开发 PyTorch 深度学习模型。 \n"
   ]
  },
  {
   "cell_type": "markdown",
   "id": "__bohr_old_version_cellId_61__",
   "metadata": {},
   "source": [
    "## 进一步阅读 <a id='furtherreading'></a>\n",
    "\n",
    "如果您希望更深入学习 PyTorch，本节提供有关该主题的更多资源。\n",
    "\n",
    "**书籍**\n",
    "\n",
    "- [Deep Learning](https://amzn.to/2Y8JuBv), 2016.\n",
    "- [Programming PyTorch for Deep Learning: Creating and Deploying Deep Learning Applications](https://amzn.to/2LA71Gq), 2018.\n",
    "- [Deep Learning with PyTorch](https://amzn.to/2Yw2s5q), 2020.\n",
    "- [Deep Learning for Coders with fastai and PyTorch: AI Applications Without a PhD](https://amzn.to/2P0MQDM), 2020.\n",
    "\n",
    "**PyTorch 项目**\n",
    "\n",
    "- [PyTorch Homepage](https://pytorch.org/).\n",
    "- [PyTorch Documentation](https://pytorch.org/docs/stable/index.html)\n",
    "- [PyTorch Installation Guide](https://pytorch.org/get-started/locally/)\n",
    "- [PyTorch, Wikipedia](https://en.wikipedia.org/wiki/PyTorch).\n",
    "- [PyTorch on GitHub](https://github.com/pytorch/pytorch)."
   ]
  },
  {
   "cell_type": "markdown",
   "id": "__bohr_old_version_cellId_62__",
   "metadata": {},
   "source": [
    "## 参考 <a id='references'></a>\n",
    "\n",
    "1. [PyTorch Tutorial: How to Develop Deep Learning Models with Python - MachineLearningMastery.com](https://machinelearningmastery.com/pytorch-tutorial-develop-deep-learning-models/)\n",
    "2. Zhang, A.; Lipton, Z. C.; Li, M.; Smola, A. J. Dive into Deep Learning. *arXiv preprint arXiv:2106.11342* **2021**."
   ]
  },
  {
   "cell_type": "markdown",
   "metadata": {},
   "source": []
  }
 ],
 "metadata": {
  "kernelspec": {
   "display_name": "Python 3 (ipykernel)",
   "language": "python",
   "name": "python3"
  },
  "language_info": {
   "codemirror_mode": {
    "name": "ipython",
    "version": 3
   },
   "file_extension": ".py",
   "mimetype": "text/x-python",
   "name": "python",
   "nbconvert_exporter": "python",
   "pygments_lexer": "ipython3",
   "version": "3.8.16"
  }
 },
 "nbformat": 4,
 "nbformat_minor": 5
}
